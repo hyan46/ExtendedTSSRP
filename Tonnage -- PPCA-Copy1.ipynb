{
 "cells": [
  {
   "cell_type": "markdown",
   "metadata": {},
   "source": [
    "# Learn PPCA"
   ]
  },
  {
   "cell_type": "code",
   "execution_count": 269,
   "metadata": {},
   "outputs": [],
   "source": [
    "import scipy.io as io\n",
    "import matplotlib.pyplot as plt\n",
    "import numpy as np"
   ]
  },
  {
   "cell_type": "markdown",
   "metadata": {},
   "source": [
    "### Load the data from the Markdown"
   ]
  },
  {
   "cell_type": "code",
   "execution_count": 270,
   "metadata": {},
   "outputs": [],
   "source": [
    "data = io.loadmat('tonnage.mat')"
   ]
  },
  {
   "cell_type": "code",
   "execution_count": 271,
   "metadata": {},
   "outputs": [
    {
     "data": {
      "text/plain": [
       "(4, 1201, 582)"
      ]
     },
     "execution_count": 271,
     "metadata": {},
     "output_type": "execute_result"
    }
   ],
   "source": [
    "X = data['X']\n",
    "y = data['y'][:,0]\n",
    "np.moveaxis(X,0,1).shape"
   ]
  },
  {
   "cell_type": "code",
   "execution_count": 272,
   "metadata": {},
   "outputs": [
    {
     "data": {
      "text/plain": [
       "[<matplotlib.lines.Line2D at 0x7fa8ed62c350>]"
      ]
     },
     "execution_count": 272,
     "metadata": {},
     "output_type": "execute_result"
    },
    {
     "data": {
      "image/png": "[encoded data removed]",
      "text/plain": [
       "<Figure size 432x288 with 1 Axes>"
      ]
     },
     "metadata": {
      "needs_background": "light"
     },
     "output_type": "display_data"
    }
   ],
   "source": [
    "vx = np.moveaxis(X,0,1).reshape(-1,582).T\n",
    "y[y==5]=2\n",
    "plt.plot(vx[0,:])\n"
   ]
  },
  {
   "cell_type": "code",
   "execution_count": null,
   "metadata": {},
   "outputs": [],
   "source": []
  },
  {
   "cell_type": "code",
   "execution_count": 273,
   "metadata": {},
   "outputs": [
    {
     "name": "stdout",
     "output_type": "stream",
     "text": [
      "0.8628242930092929\n",
      "0.8680000763585767\n",
      "0.8562988997801196\n",
      "0.8404787894538558\n",
      "0.8671274721564305\n"
     ]
    }
   ],
   "source": [
    "from sklearn.decomposition import PCA\n",
    "modelall = [[] for i in range(5)]\n",
    "Wall = [[] for i in range(5)]\n",
    "sigmaall = np.zeros(5)\n",
    "ncomponents = [15,10,10,10,10]\n",
    "for i in range(5):\n",
    "    modelall[i] = PCA(svd_solver='auto', n_components=ncomponents[i])\n",
    "    modelall[i].fit(vx[y==i])\n",
    "    Wall[i] = modelall[i].components_.T\n",
    "    sigmaall[i] = np.sqrt(modelall[i].noise_variance_)\n",
    "    print(np.sum(modelall[i].explained_variance_ratio_))"
   ]
  },
  {
   "cell_type": "code",
   "execution_count": null,
   "metadata": {},
   "outputs": [],
   "source": []
  },
  {
   "cell_type": "code",
   "execution_count": 274,
   "metadata": {},
   "outputs": [],
   "source": [
    "def fast_logdet(A):\n",
    "    \"\"\"Compute log(det(A)) for A symmetric\n",
    "    Equivalent to : np.log(nl.det(A)) but more robust.\n",
    "    It returns -Inf if det(A) is non positive or is not defined.\n",
    "    Parameters\n",
    "    ----------\n",
    "    A : array_like\n",
    "        The matrix\n",
    "    \"\"\"\n",
    "    sign, ld = np.linalg.slogdet(A)\n",
    "    if not sign > 0:\n",
    "        return -np.inf\n",
    "    return ld\n"
   ]
  },
  {
   "cell_type": "markdown",
   "metadata": {},
   "source": [
    "### Solution of PCA is given by\n",
    "PCA solution is given by\n",
    "$$X = U S V^T$$ where $V$ is the loading matrix (pca.component.T). \n",
    "The PPCA solution is givne by \n",
    "$$W = V(L-\\sigma^2I)^{1/2}.$$\n",
    "$L$ is diagonal matrix with eigen values of Sample covariance and $\\sigma$ is the noise;\n",
    "\n",
    "see book  [PRML](https://www.microsoft.com/en-us/research/uploads/prod/2006/01/Bishop-Pattern-Recognition-and-Machine-Learning-2006.pdf) (12.45)"
   ]
  },
  {
   "cell_type": "code",
   "execution_count": 275,
   "metadata": {},
   "outputs": [],
   "source": [
    "WPPCAall = [[] for i in range(5)]\n",
    "for i in range(5):\n",
    "    exp_var = modelall[i].explained_variance_\n",
    "    exp_var_diff = np.maximum(exp_var - modelall[i].noise_variance_, 0.)\n",
    "    WPPCAall[i]=modelall[i].components_.T.dot(np.diag(np.sqrt(exp_var_diff)))"
   ]
  },
  {
   "cell_type": "code",
   "execution_count": null,
   "metadata": {},
   "outputs": [],
   "source": []
  },
  {
   "cell_type": "code",
   "execution_count": null,
   "metadata": {},
   "outputs": [],
   "source": []
  },
  {
   "cell_type": "markdown",
   "metadata": {},
   "source": [
    "Use [matrix inverse lemma](https://en.wikipedia.org/wiki/Woodbury_matrix_identity) to compute the inverse of $$C^{-1} = (WW' + \\sigma^2 I)^{-1} = \\sigma^{-2} I -  \\sigma^{-2} W ( W'W + \\sigma^{2}I)^{-1} W'  $$\n",
    "see book [PRML](https://www.microsoft.com/en-us/research/uploads/prod/2006/01/Bishop-Pattern-Recognition-and-Machine-Learning-2006.pdf) Eq. (12.40)"
   ]
  },
  {
   "cell_type": "code",
   "execution_count": 276,
   "metadata": {},
   "outputs": [],
   "source": [
    "def get_precision(W,sigma):\n",
    "    p = W.shape[0]\n",
    "    n = W.shape[1]\n",
    "    M = W.T@W + sigma**2*np.eye(n)\n",
    "    precision = 1/sigma**2 * np.eye(p)- 1/sigma**2*W@np.linalg.solve(M,W.T)\n",
    "    return precision"
   ]
  },
  {
   "cell_type": "code",
   "execution_count": 277,
   "metadata": {},
   "outputs": [],
   "source": [
    "precision = [[] for i in range(5)]\n",
    "for i in range(5):\n",
    "    precision[i] = get_precision(WPPCAall[i],sigmaall[i])"
   ]
  },
  {
   "cell_type": "code",
   "execution_count": null,
   "metadata": {},
   "outputs": [],
   "source": []
  },
  {
   "cell_type": "markdown",
   "metadata": {},
   "source": [
    "\n",
    "see book [PRML](https://www.microsoft.com/en-us/research/uploads/prod/2006/01/Bishop-Pattern-Recognition-and-Machine-Learning-2006.pdf) Eq. (12.44)"
   ]
  },
  {
   "cell_type": "code",
   "execution_count": 279,
   "metadata": {},
   "outputs": [],
   "source": [
    "def loglk(X,mean,precision):\n",
    "    log_like = 0\n",
    "    Xr = X - mean\n",
    "    p = len(mean)\n",
    "    log_like = -.5 * (Xr * (np.dot(Xr, precision))).sum(axis=1)\n",
    "    log_like -= .5 * (p * np.log(2. * np.pi) -\n",
    "                      fast_logdet(precision))\n",
    "\n",
    "    return log_like"
   ]
  },
  {
   "cell_type": "code",
   "execution_count": null,
   "metadata": {},
   "outputs": [],
   "source": []
  },
  {
   "cell_type": "code",
   "execution_count": null,
   "metadata": {},
   "outputs": [],
   "source": []
  },
  {
   "cell_type": "markdown",
   "metadata": {},
   "source": [
    "Select columns from $W$"
   ]
  },
  {
   "cell_type": "code",
   "execution_count": 249,
   "metadata": {},
   "outputs": [],
   "source": [
    "def create_sensing_matrix(p,index):\n",
    "    p_obs = len(index);\n",
    "    Z = np.zeros((p,p_obs));\n",
    "    for ii,i in enumerate(index):\n",
    "        Z[i,ii] = 1\n",
    "    return Z\n"
   ]
  },
  {
   "cell_type": "code",
   "execution_count": 258,
   "metadata": {},
   "outputs": [
    {
     "data": {
      "text/plain": [
       "(4804,)"
      ]
     },
     "execution_count": 258,
     "metadata": {},
     "output_type": "execute_result"
    }
   ],
   "source": [
    "modelall[i].mean_.shape"
   ]
  },
  {
   "cell_type": "code",
   "execution_count": 280,
   "metadata": {},
   "outputs": [
    {
     "name": "stdout",
     "output_type": "stream",
     "text": [
      "[-797962.8718885  -334891.53361976 -296131.0245605  -295614.17045221\n",
      " -320420.64864636]\n"
     ]
    }
   ],
   "source": [
    "pa = len(index)\n",
    "r = np.zeros((582,4))\n",
    "isample = 1\n",
    "y = vx[isample,:].reshape(-1,1)\n",
    "lrt = np.zeros(5)\n",
    "for i in range(5):\n",
    "    precision = get_precision(WPPCAall[i],sigmaall[i])\n",
    "    lrt[i] = np.mean(loglk(y,modelall[i].mean_,precision))\n",
    "    \n",
    "print(lrt)"
   ]
  },
  {
   "cell_type": "code",
   "execution_count": 281,
   "metadata": {},
   "outputs": [
    {
     "name": "stdout",
     "output_type": "stream",
     "text": [
      "-793549.2101135135\n",
      "-330477.8718447746\n",
      "-291717.3627855164\n",
      "-291200.50867723045\n",
      "-316006.98687137564\n"
     ]
    }
   ],
   "source": [
    "for i in range(5):\n",
    "    print(modelall[i].score(y.reshape(-1,1)))"
   ]
  },
  {
   "cell_type": "markdown",
   "metadata": {},
   "source": [
    "### Created Selected Sampling in index matrix"
   ]
  },
  {
   "cell_type": "code",
   "execution_count": 224,
   "metadata": {},
   "outputs": [],
   "source": [
    "xchoice0 = np.random.choice(np.where(y==0)[0], size=100, replace=True)\n",
    "xchoice4 = np.random.choice(np.where(y==4)[0], size=100, replace=True)\n",
    "sampleindex = np.concatenate((xchoice0,xchoice4))"
   ]
  },
  {
   "cell_type": "code",
   "execution_count": 225,
   "metadata": {},
   "outputs": [],
   "source": [
    "index = np.arange(0,4804,10)\n",
    "index\n",
    "pa = len(index)\n",
    "A = create_sensing_matrix(4804,index)\n",
    "r = np.zeros((582,4))\n",
    "LRT = np.zeros((582,4))\n",
    "for ii,isample in enumerate(sampleindex):\n",
    "    xi = vx[isample,:]\n",
    "    lrt = np.zeros(5)\n",
    "    for i in range(5):\n",
    "        Wa = (A.T@WPPCAall[i])\n",
    "        precision = get_precision(Wa,sigmaall[i])\n",
    "        mean = modelall[i].mean_[index]\n",
    "        xa = (A.T@xi.T).reshape(1,pa)\n",
    "        lrt[i] = np.mean(loglk(xa,mean,precision))\n",
    "    LRT[ii] = np.cumsum(np.diff(lrt,1))\n",
    "    r[ii] = np.log1p(np.exp(r[ii-1]))+LRT[ii]\n",
    "    \n"
   ]
  },
  {
   "cell_type": "code",
   "execution_count": 283,
   "metadata": {},
   "outputs": [],
   "source": [
    "isample = 300\n",
    "xi = vx[isample,:]\n",
    "lrt = np.zeros(5)\n",
    "for i in range(5):\n",
    "    Wa = (A.T@WPPCAall[i])\n",
    "    precision = get_precision(Wa,sigmaall[i])\n",
    "    mean = modelall[i].mean_[index]\n",
    "    xa = (A.T@xi.T).reshape(1,pa)\n",
    "    lrt[i] = np.mean(loglk(xa,mean,precision))\n"
   ]
  },
  {
   "cell_type": "code",
   "execution_count": 286,
   "metadata": {},
   "outputs": [
    {
     "data": {
      "text/plain": [
       "(4804, 10)"
      ]
     },
     "execution_count": 286,
     "metadata": {},
     "output_type": "execute_result"
    }
   ],
   "source": [
    "WPPCAall[i].shape"
   ]
  },
  {
   "cell_type": "code",
   "execution_count": 223,
   "metadata": {},
   "outputs": [
    {
     "data": {
      "text/plain": [
       "-11533.350799760672"
      ]
     },
     "execution_count": 223,
     "metadata": {},
     "output_type": "execute_result"
    }
   ],
   "source": [
    "modelall[3].score(vx[400,:].reshape(1,-1))"
   ]
  },
  {
   "cell_type": "code",
   "execution_count": null,
   "metadata": {},
   "outputs": [],
   "source": []
  },
  {
   "cell_type": "code",
   "execution_count": null,
   "metadata": {},
   "outputs": [],
   "source": []
  }
 ],
 "metadata": {
  "kernelspec": {
   "display_name": "Python 3",
   "language": "python",
   "name": "python3"
  },
  "language_info": {
   "codemirror_mode": {
    "name": "ipython",
    "version": 3
   },
   "file_extension": ".py",
   "mimetype": "text/x-python",
   "name": "python",
   "nbconvert_exporter": "python",
   "pygments_lexer": "ipython3",
   "version": "3.7.4"
  }
 },
 "nbformat": 4,
 "nbformat_minor": 2
}
