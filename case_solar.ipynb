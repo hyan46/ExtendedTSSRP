{
 "cells": [
  {
   "cell_type": "code",
   "execution_count": 126,
   "metadata": {},
   "outputs": [],
   "source": [
    "import numpy as np\n",
    "from ExtendedTSSRP import ExtendedTSSRP\n",
    "from MSSRP import MSSRP\n",
    "from TSSRP import TSSRP\n",
    "from spc.spc import spc\n",
    "import time\n",
    "nmodels = 3\n",
    "model_all = [[] for i in range(nmodels)]\n",
    "model_name = ['E_srp_T2','E_srp_T1_Max','srp_M']"
   ]
  },
  {
   "cell_type": "markdown",
   "metadata": {},
   "source": [
    "# Solar "
   ]
  },
  {
   "cell_type": "code",
   "execution_count": 127,
   "metadata": {},
   "outputs": [],
   "source": [
    "import scipy.io as io\n",
    "import matplotlib.pyplot as plt\n",
    "import numpy as np\n",
    "data = io.loadmat('data/solar.mat')\n",
    "X_org_1 = data['data']"
   ]
  },
  {
   "cell_type": "code",
   "execution_count": 128,
   "metadata": {},
   "outputs": [],
   "source": [
    "T0 = 200\n",
    "dX = np.diff(X_org_1,n=1,axis=-1)\n",
    "mdX = np.mean(dX[:,:,:T0],axis=-1)\n",
    "\n",
    "X1 = dX - mdX[:,:,np.newaxis]\n",
    "X2 = X1/np.std(X1)\n",
    "X = np.rollaxis(X2,2,0)\n",
    "X_org = np.rollaxis(X_org_1, 2,0)\n",
    "nt,nx,ny = X.shape\n"
   ]
  },
  {
   "cell_type": "code",
   "execution_count": 129,
   "metadata": {},
   "outputs": [],
   "source": [
    "from Bspline import bsplineBasis"
   ]
  },
  {
   "cell_type": "code",
   "execution_count": 130,
   "metadata": {
    "lines_to_next_cell": 0
   },
   "outputs": [],
   "source": [
    "p = nx*ny # Number of dimensions\n",
    "c = 1 # Target meanshift is c * M\n",
    "nsensors = 2000 # Number of selected sensors\n",
    "Ks = 100   #Select Top Ks control chart\n",
    "k0 = 40   # Number of knots in bspline, which is related to number of failure mode\n",
    "k = k0**2\n",
    "degree = 1 # Overlap region? (Size of B-spline basis) \n",
    "Bx = bsplineBasis(nx,k0-degree+1,degree)\n",
    "By = bsplineBasis(ny,k0-degree+1,degree)\n",
    "M = np.kron(Bx,By)\n",
    "k = k0**2 # Number of failuer Mode\n",
    "nmodels = 4\n",
    "\n",
    "experiment_log = {'c':c, 'Ks':Ks, 'k0':k0, 'degree':degree,'statistics':[],\n",
    "                  'sens_history': [],\n",
    "                  'mode_history':[],\n",
    "                  'seq_stats': [] }\n",
    "model_all = [[] for i in range(nmodels)]\n",
    "model_all[0] = ExtendedTSSRP(p, c, k, M, nsensors, Ks, L=-1, chart = 'srp',mode='T2',decisionchart=1)\n",
    "model_all[1] = ExtendedTSSRP(p, c, k, M, nsensors, Ks, L=-1, chart = 'srp',mode='T1_Max',decisionchart=1)\n",
    "model_all[2] = ExtendedTSSRP(p, c, k, M, nsensors, Ks, L=-1, chart = 'srp',mode='T2',decisionchart=10)\n",
    "model_all[3] = ExtendedTSSRP(p, c, k, M, nsensors, Ks, L=-1, chart = 'srp',mode='T1_Max',decisionchart=10)\n"
   ]
  },
  {
   "cell_type": "code",
   "execution_count": null,
   "metadata": {
    "lines_to_next_cell": 2
   },
   "outputs": [],
   "source": []
  },
  {
   "cell_type": "code",
   "execution_count": 133,
   "metadata": {
    "lines_to_next_cell": 2
   },
   "outputs": [
    {
     "ename": "KeyboardInterrupt",
     "evalue": "",
     "output_type": "error",
     "traceback": [
      "\u001b[0;31m---------------------------------------------------------------------------\u001b[0m",
      "\u001b[0;31mKeyboardInterrupt\u001b[0m                         Traceback (most recent call last)",
      "\u001b[0;32m<ipython-input-133-204523335ebd>\u001b[0m in \u001b[0;36m<module>\u001b[0;34m\u001b[0m\n\u001b[1;32m      1\u001b[0m \u001b[0;32mfor\u001b[0m \u001b[0mi\u001b[0m \u001b[0;32min\u001b[0m \u001b[0mrange\u001b[0m\u001b[0;34m(\u001b[0m\u001b[0;36m1\u001b[0m\u001b[0;34m,\u001b[0m\u001b[0mnmodels\u001b[0m\u001b[0;34m)\u001b[0m\u001b[0;34m:\u001b[0m\u001b[0;34m\u001b[0m\u001b[0;34m\u001b[0m\u001b[0m\n\u001b[0;32m----> 2\u001b[0;31m     \u001b[0msequential_statistics_topRsum\u001b[0m\u001b[0;34m,\u001b[0m \u001b[0msensor_selection_history\u001b[0m\u001b[0;34m,\u001b[0m \u001b[0mfailure_mode_history\u001b[0m\u001b[0;34m,\u001b[0m \u001b[0mi\u001b[0m\u001b[0;34m,\u001b[0m\u001b[0msequential_statistics\u001b[0m\u001b[0;34m=\u001b[0m \u001b[0mmodel_all\u001b[0m\u001b[0;34m[\u001b[0m\u001b[0mi\u001b[0m\u001b[0;34m]\u001b[0m\u001b[0;34m.\u001b[0m\u001b[0mcompute_monitoring_statistics\u001b[0m\u001b[0;34m(\u001b[0m\u001b[0mX\u001b[0m\u001b[0;34m.\u001b[0m\u001b[0mreshape\u001b[0m\u001b[0;34m(\u001b[0m\u001b[0;34m(\u001b[0m\u001b[0mnt\u001b[0m\u001b[0;34m,\u001b[0m\u001b[0mnx\u001b[0m\u001b[0;34m*\u001b[0m\u001b[0mny\u001b[0m\u001b[0;34m)\u001b[0m\u001b[0;34m)\u001b[0m\u001b[0;34m,\u001b[0m\u001b[0mT0\u001b[0m\u001b[0;34m,\u001b[0m\u001b[0;34m-\u001b[0m\u001b[0;36m1\u001b[0m\u001b[0;34m)\u001b[0m\u001b[0;34m\u001b[0m\u001b[0;34m\u001b[0m\u001b[0m\n\u001b[0m\u001b[1;32m      3\u001b[0m     \u001b[0mexperiment_log\u001b[0m\u001b[0;34m[\u001b[0m\u001b[0;34m'statistics'\u001b[0m\u001b[0;34m]\u001b[0m\u001b[0;34m.\u001b[0m\u001b[0mappend\u001b[0m\u001b[0;34m(\u001b[0m \u001b[0msequential_statistics_topRsum\u001b[0m\u001b[0;34m)\u001b[0m\u001b[0;34m\u001b[0m\u001b[0;34m\u001b[0m\u001b[0m\n\u001b[1;32m      4\u001b[0m     \u001b[0mexperiment_log\u001b[0m\u001b[0;34m[\u001b[0m\u001b[0;34m'sens_history'\u001b[0m\u001b[0;34m]\u001b[0m\u001b[0;34m.\u001b[0m\u001b[0mappend\u001b[0m\u001b[0;34m(\u001b[0m\u001b[0msensor_selection_history\u001b[0m\u001b[0;34m)\u001b[0m\u001b[0;34m\u001b[0m\u001b[0;34m\u001b[0m\u001b[0m\n\u001b[1;32m      5\u001b[0m     \u001b[0mexperiment_log\u001b[0m\u001b[0;34m[\u001b[0m\u001b[0;34m'mode_history'\u001b[0m\u001b[0;34m]\u001b[0m\u001b[0;34m.\u001b[0m\u001b[0mappend\u001b[0m\u001b[0;34m(\u001b[0m\u001b[0mfailure_mode_history\u001b[0m\u001b[0;34m)\u001b[0m\u001b[0;34m\u001b[0m\u001b[0;34m\u001b[0m\u001b[0m\n",
      "\u001b[0;32m~/ExtendedTSSRP/srpabstract.py\u001b[0m in \u001b[0;36mcompute_monitoring_statistics\u001b[0;34m(self, x, T0, L)\u001b[0m\n\u001b[1;32m     86\u001b[0m \u001b[0;34m\u001b[0m\u001b[0m\n\u001b[1;32m     87\u001b[0m             \u001b[0mfailureModeTopIdx\u001b[0m \u001b[0;34m=\u001b[0m \u001b[0mnp\u001b[0m\u001b[0;34m.\u001b[0m\u001b[0margsort\u001b[0m\u001b[0;34m(\u001b[0m\u001b[0;34m-\u001b[0m\u001b[0msequential_statistics\u001b[0m\u001b[0;34m[\u001b[0m\u001b[0mi\u001b[0m\u001b[0;34m,\u001b[0m\u001b[0;34m:\u001b[0m\u001b[0;34m]\u001b[0m\u001b[0;34m)\u001b[0m\u001b[0;34m[\u001b[0m\u001b[0;34m:\u001b[0m\u001b[0mKs\u001b[0m\u001b[0;34m]\u001b[0m\u001b[0;34m\u001b[0m\u001b[0;34m\u001b[0m\u001b[0m\n\u001b[0;32m---> 88\u001b[0;31m             \u001b[0msensingSel\u001b[0m \u001b[0;34m=\u001b[0m \u001b[0mself\u001b[0m\u001b[0;34m.\u001b[0m\u001b[0mcompute_index\u001b[0m\u001b[0;34m(\u001b[0m\u001b[0mfailureModeTopIdx\u001b[0m\u001b[0;34m,\u001b[0m\u001b[0mr\u001b[0m\u001b[0;34m=\u001b[0m\u001b[0msequential_statistics\u001b[0m\u001b[0;34m[\u001b[0m\u001b[0mi\u001b[0m\u001b[0;34m-\u001b[0m\u001b[0;36m1\u001b[0m\u001b[0;34m,\u001b[0m\u001b[0;34m:\u001b[0m\u001b[0;34m]\u001b[0m\u001b[0;34m)\u001b[0m\u001b[0;34m\u001b[0m\u001b[0;34m\u001b[0m\u001b[0m\n\u001b[0m\u001b[1;32m     89\u001b[0m             \u001b[0;32mif\u001b[0m \u001b[0mself\u001b[0m\u001b[0;34m.\u001b[0m\u001b[0mselectmode\u001b[0m \u001b[0;34m==\u001b[0m \u001b[0;34m'indi'\u001b[0m\u001b[0;34m:\u001b[0m\u001b[0;34m\u001b[0m\u001b[0;34m\u001b[0m\u001b[0m\n\u001b[1;32m     90\u001b[0m                 \u001b[0ma\u001b[0m \u001b[0;34m=\u001b[0m \u001b[0mnp\u001b[0m\u001b[0;34m.\u001b[0m\u001b[0mzeros\u001b[0m\u001b[0;34m(\u001b[0m\u001b[0mp\u001b[0m\u001b[0;34m)\u001b[0m\u001b[0;34m\u001b[0m\u001b[0;34m\u001b[0m\u001b[0m\n",
      "\u001b[0;32m~/ExtendedTSSRP/ExtendedTSSRP.py\u001b[0m in \u001b[0;36mcompute_index\u001b[0;34m(self, failureModeTopIdx, r)\u001b[0m\n\u001b[1;32m     57\u001b[0m         \u001b[0;32mif\u001b[0m \u001b[0mself\u001b[0m\u001b[0;34m.\u001b[0m\u001b[0msample_mode\u001b[0m \u001b[0;34m==\u001b[0m \u001b[0;34m'sample'\u001b[0m\u001b[0;34m:\u001b[0m\u001b[0;34m\u001b[0m\u001b[0;34m\u001b[0m\u001b[0m\n\u001b[1;32m     58\u001b[0m             \u001b[0;32mfor\u001b[0m \u001b[0mik\u001b[0m \u001b[0;32min\u001b[0m \u001b[0mrange\u001b[0m\u001b[0;34m(\u001b[0m\u001b[0mk\u001b[0m\u001b[0;34m)\u001b[0m\u001b[0;34m:\u001b[0m\u001b[0;34m\u001b[0m\u001b[0;34m\u001b[0m\u001b[0m\n\u001b[0;32m---> 59\u001b[0;31m                 \u001b[0mx_sample\u001b[0m\u001b[0;34m[\u001b[0m\u001b[0;34m:\u001b[0m\u001b[0;34m,\u001b[0m\u001b[0mik\u001b[0m\u001b[0;34m]\u001b[0m \u001b[0;34m=\u001b[0m \u001b[0mnp\u001b[0m\u001b[0;34m.\u001b[0m\u001b[0mrandom\u001b[0m\u001b[0;34m.\u001b[0m\u001b[0mrandn\u001b[0m\u001b[0;34m(\u001b[0m\u001b[0;36m1\u001b[0m\u001b[0;34m,\u001b[0m\u001b[0mp\u001b[0m\u001b[0;34m)\u001b[0m \u001b[0;34m+\u001b[0m \u001b[0mM\u001b[0m\u001b[0;34m[\u001b[0m\u001b[0;34m:\u001b[0m\u001b[0;34m,\u001b[0m\u001b[0mik\u001b[0m\u001b[0;34m]\u001b[0m\u001b[0;34m*\u001b[0m\u001b[0mc\u001b[0m\u001b[0;34m\u001b[0m\u001b[0;34m\u001b[0m\u001b[0m\n\u001b[0m\u001b[1;32m     60\u001b[0m         \u001b[0;32melif\u001b[0m \u001b[0mself\u001b[0m\u001b[0;34m.\u001b[0m\u001b[0msample_mode\u001b[0m \u001b[0;34m==\u001b[0m \u001b[0;34m'mean'\u001b[0m\u001b[0;34m:\u001b[0m\u001b[0;34m\u001b[0m\u001b[0;34m\u001b[0m\u001b[0m\n\u001b[1;32m     61\u001b[0m             \u001b[0;32mfor\u001b[0m \u001b[0mik\u001b[0m \u001b[0;32min\u001b[0m \u001b[0mrange\u001b[0m\u001b[0;34m(\u001b[0m\u001b[0mk\u001b[0m\u001b[0;34m)\u001b[0m\u001b[0;34m:\u001b[0m\u001b[0;34m\u001b[0m\u001b[0;34m\u001b[0m\u001b[0m\n",
      "\u001b[0;31mKeyboardInterrupt\u001b[0m: "
     ]
    }
   ],
   "source": [
    "for i in range(nmodels):\n",
    "    sequential_statistics_topRsum, sensor_selection_history, failure_mode_history, i,sequential_statistics= model_all[i].compute_monitoring_statistics(X.reshape((nt,nx*ny)),T0,-1)\n",
    "    experiment_log['statistics'].append( sequential_statistics_topRsum)\n",
    "    experiment_log['sens_history'].append(sensor_selection_history)\n",
    "    experiment_log['mode_history'].append(failure_mode_history)\n",
    "    experiment_log['seq_stats'].append(sequential_statistics)"
   ]
  },
  {
   "cell_type": "code",
   "execution_count": null,
   "metadata": {},
   "outputs": [],
   "source": [
    "import pickle\n",
    "import time\n",
    "filename = time.strftime(\"%Y%b%d_%H%M_exp_solar1.pickle\", time.localtime())\n",
    "pickle.dump( experiment_log, open( filename, \"wb\" ))"
   ]
  },
  {
   "cell_type": "markdown",
   "metadata": {},
   "source": [
    "# Load results from Log"
   ]
  },
  {
   "cell_type": "code",
   "execution_count": 83,
   "metadata": {},
   "outputs": [
    {
     "data": {
      "text/plain": [
       "{'c': 1,\n",
       " 'Ks': 100,\n",
       " 'k0': 40,\n",
       " 'degree': 1,\n",
       " 'statistics': 0,\n",
       " 'sens_history': array([[45108., 44998., 43328., ..., 47429., 42753., 45946.],\n",
       "        [43261., 39906., 41291., ..., 40851., 41238., 38578.],\n",
       "        [36724., 43411., 50516., ..., 49267., 36412., 38796.],\n",
       "        ...,\n",
       "        [22768., 29561., 53766., ..., 31204., 37095., 11235.],\n",
       "        [ 7000., 67542., 24341., ...,  8496.,  4734., 66162.],\n",
       "        [38049.,  3698.,  8828., ..., 52024., 23221., 40765.]]),\n",
       " 'mode_history': array([[   0., 1072., 1071., ..., 1025., 1001., 1099.],\n",
       "        [1039., 1096.,  975., ..., 1203., 1202., 1201.],\n",
       "        [1203.,  890.,  938., ...,  848.,  849.,  850.],\n",
       "        ...,\n",
       "        [1206., 1166., 1205., ...,  165.,  945., 1278.],\n",
       "        [1166., 1206., 1205., ...,  445., 1019., 1458.],\n",
       "        [1166., 1206., 1205., ..., 1021., 1215., 1271.]]),\n",
       " 'seq_stats': array([[ 0.69314718,  0.69314718,  0.69314718, ...,  0.69314718,\n",
       "          0.69314718,  0.69314718],\n",
       "        [-2.5088809 , -0.10746857,  1.09861229, ...,  1.09861229,\n",
       "          1.09861229,  1.09861229],\n",
       "        [ 0.0782188 ,  0.64085589,  1.38629436, ...,  1.38629436,\n",
       "          1.38629436,  1.38629436],\n",
       "        ...,\n",
       "        [ 2.4434048 , -1.90500985, -0.22915281, ...,  2.01319935,\n",
       "          1.9556633 ,  2.17512679],\n",
       "        [ 2.52670183,  0.13873635,  0.58512034, ...,  2.13856308,\n",
       "          2.08798074,  2.28271919],\n",
       "        [ 2.60359081,  0.7649194 ,  1.02790617, ...,  2.24994704,\n",
       "          2.20481857,  2.37985176]]),\n",
       " 'statstics': array([  0.69314718,   5.09619397,  11.78478356,  10.3215575 ,\n",
       "          8.73075351,  15.00974186,  14.75095872,  12.36301671,\n",
       "          9.29146609,   9.9106827 ,   9.56980915,   9.5168706 ,\n",
       "         11.12356749,  11.61542557,  10.79588786,  11.8335328 ,\n",
       "          9.65990541,   9.1315035 ,   9.89168891,  12.72200663,\n",
       "         12.22752042,  11.32932413,  17.25322054,   9.45179265,\n",
       "         18.39959679,  13.01588152,  10.27612486,  20.25239375,\n",
       "         18.58390181,  20.70161379,   9.36682   ,  11.09679467,\n",
       "         14.40808103,  13.32330624,  10.40993189,  13.38030817,\n",
       "         12.89798744,  10.17413422,  12.93559967,  10.34168954,\n",
       "         14.73104356,  17.59966485,  16.74043823,  14.12692323,\n",
       "         12.19642446,  14.00577784,  24.86020047,  21.05217018,\n",
       "         12.83767355,  14.62395023,   9.89905383,   8.69344587,\n",
       "         11.08461065,  13.62173565,  11.64402827,  14.42930475,\n",
       "         13.46935289,  14.54381474,  12.59787966,  18.14599949,\n",
       "         18.75112224,  11.50154931,  11.442808  ,  17.38816846,\n",
       "         10.95788866,   7.43007714,   7.73790896,  12.06682405,\n",
       "         11.79074117,  10.65687627,  11.80958589,  15.85548132,\n",
       "         13.23163131,  25.55341167,  22.28983352,  17.81084781,\n",
       "         20.92105143,  22.27567423,  25.21903792,  17.79535659,\n",
       "         10.14087263,  11.96425114,   9.56140984,  13.75100721,\n",
       "         13.13166002,  19.69524996,  24.70829854,  36.2659448 ,\n",
       "         30.37239142,  26.94133602,  40.47365697,  38.19146935,\n",
       "         40.75657973,  33.01655511,  35.45640993,  19.10020002,\n",
       "          8.57279704,  10.87036669,   8.14231373,   7.7486934 ,\n",
       "         13.01238807,  12.97025784,  11.27333016,  11.92337014,\n",
       "         14.19747742,  18.10570415,  15.61277304,  13.2543212 ,\n",
       "         11.69377125,  11.67900017,  14.70679073,  11.5008513 ,\n",
       "         16.05201446,  13.50283954,  24.19849815,  37.85395476,\n",
       "         32.0313006 ,  33.21114923,  28.86006783,  26.14297912,\n",
       "         33.09220377,  27.40759255,  30.50241261,  28.01075687,\n",
       "         38.87462737,  49.34306618,  53.93498463,  55.57784318,\n",
       "         54.42910675,  63.99040018,  61.46832623,  52.82248876,\n",
       "         55.66585116,  52.72490014,  58.40778935,  67.25878109,\n",
       "         77.2435114 ,  82.90574185,  76.77528718,  80.09680891,\n",
       "         91.29313467,  89.19335508,  89.4344718 ,  81.4305935 ,\n",
       "         81.98126992,  68.76981081,  57.52357256,  47.11021402,\n",
       "         28.64907638,  18.11415943,  13.64561372,  13.79009497,\n",
       "         10.09323062,  11.28365795,  11.43281404,  13.98386006,\n",
       "          9.6784839 ,  10.28123657,  14.56143978,  16.3987367 ,\n",
       "         14.46801297,  13.17881383,  11.05058018,  13.2384386 ,\n",
       "         15.25494613,  18.72620128,  16.90085467,  10.53283371,\n",
       "         17.32983601,  10.21674822,  12.00824934,  15.02568753,\n",
       "         15.9463957 ,   8.64074158,  10.67802715,   8.01471321,\n",
       "          8.99829779,  17.32327674,  16.68562194,  13.73324723,\n",
       "         16.87684949,  19.98426224,  25.74216161,  19.03037578,\n",
       "         14.84668497,  12.58824098,  10.79294855,  11.00555947,\n",
       "          8.79483989,  10.26054619,   9.68554623,  11.36685833,\n",
       "         15.0649404 ,  14.8378425 ,  24.5476306 ,  25.05255342,\n",
       "         34.73770903,  34.67065351,  32.1446939 ,  32.40211507,\n",
       "         40.26671727,  38.07112666,  32.22142189,  27.61199191,\n",
       "         26.57708702,  24.38883902,  16.64682213,  17.98851657,\n",
       "         16.22791481,  14.50603789,  13.12548141,  15.07709072,\n",
       "         12.79017754,  10.87124534,  15.01546054,  15.17189387,\n",
       "         19.62332004,  12.10139262,   9.69228638,  11.06144462,\n",
       "         10.40407478,  12.0981697 ,  17.16763709,  28.39599472,\n",
       "         26.08184654,  22.77170894,  35.08041113,  41.69397855,\n",
       "         51.36242818,  56.27466177,  60.03961525,  58.23517726,\n",
       "         68.63265213,  71.395113  ,  95.01614566, 108.98904518,\n",
       "        118.73812434, 126.76698912, 142.44484126, 143.93996484,\n",
       "        150.10426806, 155.45697683, 158.90528189, 174.93837281,\n",
       "        176.99418532, 186.03613934, 193.31535353, 209.93386241,\n",
       "        215.63918368, 211.03074983, 204.81655531, 198.08696643,\n",
       "        192.95761878, 199.29591117, 194.11493585, 172.87108002,\n",
       "        170.10909648, 167.32355007, 149.7195249 , 145.12912341,\n",
       "        117.75879427, 115.19559469, 125.97115722, 125.02935447,\n",
       "        107.14982577, 109.77918381, 101.01201221,  94.80830183,\n",
       "         95.46683872, 101.02364347,  96.62847451,  83.12590363,\n",
       "         60.9618989 ,  61.44300863,  62.78700622,  49.51050789,\n",
       "         50.09138556,  48.18972093,  40.55996123,  41.78837609,\n",
       "         40.48933526,  43.15026169,  42.51298479,  32.85900366,\n",
       "         35.88048988,  45.40618434,  49.6926202 ,  63.69475552,\n",
       "         63.99653451,  59.10339622,  62.42798153,  57.20857178,\n",
       "         46.09868874,  51.53238543,  53.81360236,  61.62397104,\n",
       "         51.9548112 ,  47.8040577 ,  47.2654868 ])}"
      ]
     },
     "execution_count": 83,
     "metadata": {},
     "output_type": "execute_result"
    }
   ],
   "source": [
    "import pickle\n",
    "import numpy as np\n",
    "explog = pickle.load(open('2020Jul19_2015_exp_solar1.pickle',\"rb\"))\n",
    "explog"
   ]
  },
  {
   "cell_type": "markdown",
   "metadata": {},
   "source": [
    "## Monitor Statistics\n",
    "Tried multiple settings but some has false alarm around 150. "
   ]
  },
  {
   "cell_type": "code",
   "execution_count": 84,
   "metadata": {},
   "outputs": [
    {
     "data": {
      "image/png": "[encoded data removed]",
      "text/plain": [
       "<Figure size 432x288 with 1 Axes>"
      ]
     },
     "metadata": {
      "needs_background": "light"
     },
     "output_type": "display_data"
    }
   ],
   "source": [
    "plt.plot(explog['statistics'])\n",
    "plt.savefig('1.png')"
   ]
  },
  {
   "cell_type": "code",
   "execution_count": null,
   "metadata": {},
   "outputs": [],
   "source": []
  },
  {
   "cell_type": "code",
   "execution_count": 101,
   "metadata": {},
   "outputs": [
    {
     "data": {
      "image/png": "[encoded data removed]",
      "text/plain": [
       "<Figure size 432x288 with 1 Axes>"
      ]
     },
     "metadata": {
      "needs_background": "light"
     },
     "output_type": "display_data"
    }
   ],
   "source": [
    "from matplotlib import animation\n",
    "fig = plt.figure()\n",
    "isample = 0\n",
    "ims = []\n",
    "for t in range(nt):\n",
    "    sens=np.zeros(nx*ny)\n",
    "    sens[explog['sens_history'][t].astype(np.int)] = 1\n",
    "    msens = sens.reshape((nx,ny))\n",
    "    im = plt.imshow(msens)\n",
    "    ims.append([im])\n",
    "ani = animation.ArtistAnimation(fig, ims, interval=50,blit=True,repeat_delay=1000)\n",
    "ani.save('solar_sensing.mp4')"
   ]
  },
  {
   "cell_type": "code",
   "execution_count": 108,
   "metadata": {
    "lines_to_end_of_cell_marker": 2
   },
   "outputs": [
    {
     "data": {
      "image/png": "[encoded data removed]",
      "text/plain": [
       "<Figure size 432x288 with 4 Axes>"
      ]
     },
     "metadata": {
      "needs_background": "light"
     },
     "output_type": "display_data"
    }
   ],
   "source": [
    "from celluloid import Camera\n",
    "fig, ax = plt.subplots(2,2)\n",
    "camera = Camera(fig)\n",
    "\n",
    "for t in range(nt):\n",
    "    sens=np.zeros(nx*ny)\n",
    "    sens[explog['sens_history'][t].astype(np.int)] = 1\n",
    "    msens = sens.reshape((nx,ny))\n",
    "    ax[0,0].imshow(X_org[t],cmap=plt.get_cmap('hot'))\n",
    "    ax[0,0].set_title(str(t))\n",
    "    ax[0,1].imshow(msens)\n",
    "    ax[1,0].imshow(X[t],cmap=plt.get_cmap('hot'))\n",
    "    ax[1,1].plot(explog['statistics'][:t],'k')\n",
    "    camera.snap()\n",
    "animation = camera.animate()\n",
    "animation.save('solar_sensing.mp4')"
   ]
  },
  {
   "cell_type": "code",
   "execution_count": 109,
   "metadata": {
    "lines_to_next_cell": 2
   },
   "outputs": [
    {
     "data": {
      "text/html": [
       "<video src=\"solar_sensing.mp4\" controls  >\n",
       "      Your browser does not support the <code>video</code> element.\n",
       "    </video>"
      ],
      "text/plain": [
       "<IPython.core.display.Video object>"
      ]
     },
     "execution_count": 109,
     "metadata": {},
     "output_type": "execute_result"
    }
   ],
   "source": [
    "from IPython.display import Video\n",
    "Video(\"solar_sensing.mp4\")"
   ]
  },
  {
   "cell_type": "code",
   "execution_count": null,
   "metadata": {},
   "outputs": [],
   "source": []
  },
  {
   "cell_type": "code",
   "execution_count": null,
   "metadata": {},
   "outputs": [],
   "source": []
  },
  {
   "cell_type": "code",
   "execution_count": null,
   "metadata": {
    "lines_to_next_cell": 2
   },
   "outputs": [],
   "source": []
  },
  {
   "cell_type": "code",
   "execution_count": null,
   "metadata": {},
   "outputs": [],
   "source": []
  },
  {
   "cell_type": "code",
   "execution_count": null,
   "metadata": {},
   "outputs": [],
   "source": []
  },
  {
   "cell_type": "code",
   "execution_count": null,
   "metadata": {},
   "outputs": [],
   "source": []
  },
  {
   "cell_type": "code",
   "execution_count": null,
   "metadata": {},
   "outputs": [],
   "source": []
  },
  {
   "cell_type": "code",
   "execution_count": null,
   "metadata": {},
   "outputs": [],
   "source": []
  },
  {
   "cell_type": "code",
   "execution_count": null,
   "metadata": {},
   "outputs": [],
   "source": []
  },
  {
   "cell_type": "code",
   "execution_count": null,
   "metadata": {},
   "outputs": [],
   "source": []
  }
 ],
 "metadata": {
  "jupytext": {
   "formats": "ipynb,py:light"
  },
  "kernelspec": {
   "display_name": "Python [conda env:pytorch]",
   "language": "python",
   "name": "conda-env-pytorch-py"
  },
  "language_info": {
   "codemirror_mode": {
    "name": "ipython",
    "version": 3
   },
   "file_extension": ".py",
   "mimetype": "text/x-python",
   "name": "python",
   "nbconvert_exporter": "python",
   "pygments_lexer": "ipython3",
   "version": "3.7.5"
  }
 },
 "nbformat": 4,
 "nbformat_minor": 4
}
