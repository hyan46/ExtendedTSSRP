{
 "cells": [
  {
   "cell_type": "markdown",
   "metadata": {},
   "source": [
    "# Learn PPCA"
   ]
  },
  {
   "cell_type": "code",
   "execution_count": 1,
   "metadata": {},
   "outputs": [],
   "source": [
    "import scipy.io as io\n",
    "import matplotlib.pyplot as plt\n",
    "import numpy as np"
   ]
  },
  {
   "cell_type": "markdown",
   "metadata": {},
   "source": [
    "### Load the data from the Markdown"
   ]
  },
  {
   "cell_type": "code",
   "execution_count": 2,
   "metadata": {},
   "outputs": [],
   "source": [
    "data = io.loadmat('tonnage.mat')"
   ]
  },
  {
   "cell_type": "code",
   "execution_count": 3,
   "metadata": {},
   "outputs": [
    {
     "data": {
      "text/plain": [
       "(4, 1201, 582)"
      ]
     },
     "execution_count": 3,
     "metadata": {},
     "output_type": "execute_result"
    }
   ],
   "source": [
    "X = data['X']\n",
    "y = data['y'][:,0]\n",
    "np.moveaxis(X,0,1).shape"
   ]
  },
  {
   "cell_type": "code",
   "execution_count": 4,
   "metadata": {},
   "outputs": [
    {
     "data": {
      "text/plain": [
       "[<matplotlib.lines.Line2D at 0x7fa8e8fe4c90>]"
      ]
     },
     "execution_count": 4,
     "metadata": {},
     "output_type": "execute_result"
    },
    {
     "data": {
      "image/png": "[encoded data removed]",
      "text/plain": [
       "<Figure size 432x288 with 1 Axes>"
      ]
     },
     "metadata": {
      "needs_background": "light"
     },
     "output_type": "display_data"
    }
   ],
   "source": [
    "vx = np.moveaxis(X,0,1).reshape(-1,582).T\n",
    "y[y==5]=2\n",
    "plt.plot(vx[0,:])\n"
   ]
  },
  {
   "cell_type": "code",
   "execution_count": null,
   "metadata": {},
   "outputs": [],
   "source": []
  },
  {
   "cell_type": "code",
   "execution_count": 9,
   "metadata": {},
   "outputs": [
    {
     "name": "stdout",
     "output_type": "stream",
     "text": [
      "0.817030803135414\n",
      "0.8392424738525786\n",
      "0.8273479631665371\n",
      "0.8119588926791212\n",
      "0.8351399586668791\n"
     ]
    }
   ],
   "source": [
    "from sklearn.decomposition import PCA\n",
    "modelall = [[] for i in range(5)]\n",
    "Wall = [[] for i in range(5)]\n",
    "sigmaall = np.zeros(5)\n",
    "ncomponents = [10,8,8,8,8]\n",
    "for i in range(5):\n",
    "    modelall[i] = PCA(svd_solver='auto', n_components=ncomponents[i])\n",
    "    modelall[i].fit(vx[y==i])\n",
    "    Wall[i] = modelall[i].components_.T\n",
    "    sigmaall[i] = np.sqrt(modelall[i].noise_variance_)\n",
    "    print(np.sum(modelall[i].explained_variance_ratio_))"
   ]
  },
  {
   "cell_type": "code",
   "execution_count": null,
   "metadata": {},
   "outputs": [],
   "source": []
  },
  {
   "cell_type": "code",
   "execution_count": 10,
   "metadata": {},
   "outputs": [],
   "source": [
    "def fast_logdet(A):\n",
    "    \"\"\"Compute log(det(A)) for A symmetric\n",
    "    Equivalent to : np.log(nl.det(A)) but more robust.\n",
    "    It returns -Inf if det(A) is non positive or is not defined.\n",
    "    Parameters\n",
    "    ----------\n",
    "    A : array_like\n",
    "        The matrix\n",
    "    \"\"\"\n",
    "    sign, ld = np.linalg.slogdet(A)\n",
    "    if not sign > 0:\n",
    "        return -np.inf\n",
    "    return ld\n"
   ]
  },
  {
   "cell_type": "markdown",
   "metadata": {},
   "source": [
    "### Solution of PCA is given by\n",
    "PCA solution is given by\n",
    "$$X = U S V^T$$ where $V$ is the loading matrix (pca.component.T). \n",
    "The PPCA solution is givne by \n",
    "$$W = V(L-\\sigma^2I)^{1/2}.$$\n",
    "$L$ is diagonal matrix with eigen values of Sample covariance and $\\sigma$ is the noise;\n",
    "\n",
    "see book  [PRML](https://www.microsoft.com/en-us/research/uploads/prod/2006/01/Bishop-Pattern-Recognition-and-Machine-Learning-2006.pdf) (12.45)"
   ]
  },
  {
   "cell_type": "code",
   "execution_count": 11,
   "metadata": {},
   "outputs": [],
   "source": [
    "WPPCAall = [[] for i in range(5)]\n",
    "for i in range(5):\n",
    "    exp_var = modelall[i].explained_variance_\n",
    "    exp_var_diff = np.maximum(exp_var - modelall[i].noise_variance_, 0.)\n",
    "    WPPCAall[i]=modelall[i].components_.T.dot(np.diag(np.sqrt(exp_var_diff)))"
   ]
  },
  {
   "cell_type": "code",
   "execution_count": null,
   "metadata": {},
   "outputs": [],
   "source": []
  },
  {
   "cell_type": "markdown",
   "metadata": {},
   "source": [
    "Use [matrix inverse lemma](https://en.wikipedia.org/wiki/Woodbury_matrix_identity) to compute the inverse of $$C^{-1} = (WW' + \\sigma^2 I)^{-1} = \\sigma^{-2} I -  \\sigma^{-2} W ( W'W + \\sigma^{2}I)^{-1} W'  $$\n",
    "see book [PRML](https://www.microsoft.com/en-us/research/uploads/prod/2006/01/Bishop-Pattern-Recognition-and-Machine-Learning-2006.pdf) Eq. (12.40)"
   ]
  },
  {
   "cell_type": "code",
   "execution_count": 12,
   "metadata": {},
   "outputs": [],
   "source": [
    "def get_precision(W,sigma):\n",
    "    p = W.shape[0]\n",
    "    n = W.shape[1]\n",
    "    M = W.T@W + sigma**2*np.eye(n)\n",
    "    precision = 1/sigma**2 * np.eye(p)- 1/sigma**2*W@np.linalg.solve(M,W.T)\n",
    "    return precision"
   ]
  },
  {
   "cell_type": "code",
   "execution_count": 13,
   "metadata": {},
   "outputs": [],
   "source": [
    "precision = [[] for i in range(5)]\n",
    "for i in range(5):\n",
    "    precision[i] = get_precision(WPPCAall[i],sigmaall[i])"
   ]
  },
  {
   "cell_type": "code",
   "execution_count": null,
   "metadata": {},
   "outputs": [],
   "source": []
  },
  {
   "cell_type": "markdown",
   "metadata": {},
   "source": [
    "\n",
    "see book [PRML](https://www.microsoft.com/en-us/research/uploads/prod/2006/01/Bishop-Pattern-Recognition-and-Machine-Learning-2006.pdf) Eq. (12.44)"
   ]
  },
  {
   "cell_type": "code",
   "execution_count": 14,
   "metadata": {},
   "outputs": [],
   "source": [
    "def loglk(X,mean,precision):\n",
    "    log_like = 0\n",
    "    Xr = X - mean\n",
    "    p = len(mean)\n",
    "    log_like = -.5 * (Xr * (np.dot(Xr, precision))).sum(axis=1)\n",
    "    log_like -= .5 * (p * np.log(2. * np.pi) -\n",
    "                      fast_logdet(precision))\n",
    "\n",
    "    return log_like"
   ]
  },
  {
   "cell_type": "code",
   "execution_count": null,
   "metadata": {},
   "outputs": [],
   "source": []
  },
  {
   "cell_type": "code",
   "execution_count": null,
   "metadata": {},
   "outputs": [],
   "source": []
  },
  {
   "cell_type": "markdown",
   "metadata": {},
   "source": [
    "Select columns from $W$"
   ]
  },
  {
   "cell_type": "code",
   "execution_count": 16,
   "metadata": {},
   "outputs": [],
   "source": [
    "def create_sensing_matrix(p,index):\n",
    "    p_obs = len(index);\n",
    "    Z = np.zeros((p,p_obs));\n",
    "    for ii,i in enumerate(index):\n",
    "        Z[i,ii] = 1\n",
    "    return Z\n"
   ]
  },
  {
   "cell_type": "code",
   "execution_count": 17,
   "metadata": {},
   "outputs": [],
   "source": [
    "# pa = len(index)\n",
    "# r = np.zeros((582,4))\n",
    "# isample = np.arange(20,)\n",
    "# for isample in range(582):\n",
    "#     print(isample)\n",
    "#     y = vx[isample,:].reshape(-1,1)\n",
    "#     lrt = np.zeros(5)\n",
    "#     for i in range(5):\n",
    "#         lrt[i] = np.mean(loglk(y,modelall[i].mean_,precision[i]))\n",
    "#     LRT = np.cumsum(np.diff(lrt,1))\n",
    "#     for i in range(4):\n",
    "#         r[isample,i] = np.log1p(np.exp(r[isample-1,i]))+LRT[i]\n",
    "    \n"
   ]
  },
  {
   "cell_type": "markdown",
   "metadata": {},
   "source": [
    "### Created Selected Sampling in index matrix"
   ]
  },
  {
   "cell_type": "code",
   "execution_count": 18,
   "metadata": {},
   "outputs": [],
   "source": [
    "xchoice0 = np.random.choice(np.where(y==0)[0], size=100, replace=True)\n",
    "xchoice4 = np.random.choice(np.where(y==4)[0], size=100, replace=True)\n",
    "sampleindex = np.concatenate((xchoice0,xchoice4))"
   ]
  },
  {
   "cell_type": "code",
   "execution_count": 28,
   "metadata": {},
   "outputs": [
    {
     "name": "stdout",
     "output_type": "stream",
     "text": [
      "275\n",
      "67\n",
      "43\n",
      "222\n",
      "268\n",
      "298\n",
      "283\n",
      "98\n",
      "279\n",
      "278\n",
      "0\n",
      "47\n",
      "142\n",
      "90\n",
      "121\n",
      "64\n",
      "270\n",
      "29\n",
      "102\n",
      "179\n",
      "272\n",
      "33\n",
      "175\n",
      "264\n",
      "43\n",
      "15\n",
      "262\n",
      "119\n",
      "11\n",
      "75\n",
      "304\n",
      "202\n",
      "206\n",
      "174\n",
      "29\n",
      "240\n",
      "264\n",
      "285\n",
      "3\n",
      "268\n",
      "274\n",
      "45\n",
      "285\n",
      "92\n",
      "42\n",
      "116\n",
      "52\n",
      "0\n",
      "282\n",
      "90\n",
      "12\n",
      "102\n",
      "265\n",
      "69\n",
      "100\n",
      "151\n",
      "66\n",
      "126\n",
      "178\n",
      "159\n",
      "271\n",
      "233\n",
      "121\n",
      "50\n",
      "266\n",
      "43\n",
      "38\n",
      "64\n",
      "138\n",
      "140\n",
      "220\n",
      "134\n",
      "297\n",
      "175\n",
      "103\n",
      "273\n",
      "219\n",
      "246\n",
      "222\n",
      "51\n",
      "169\n",
      "56\n",
      "277\n",
      "175\n",
      "184\n",
      "57\n",
      "276\n",
      "154\n",
      "230\n",
      "132\n",
      "7\n",
      "93\n",
      "7\n",
      "256\n",
      "94\n",
      "43\n",
      "225\n",
      "60\n",
      "103\n",
      "294\n",
      "506\n",
      "466\n",
      "451\n",
      "476\n",
      "492\n",
      "467\n",
      "485\n",
      "477\n",
      "478\n",
      "479\n",
      "459\n",
      "486\n",
      "448\n",
      "455\n",
      "453\n",
      "499\n",
      "470\n",
      "479\n",
      "454\n",
      "508\n",
      "495\n",
      "446\n",
      "489\n",
      "493\n",
      "465\n",
      "480\n",
      "474\n",
      "462\n",
      "469\n",
      "461\n",
      "512\n",
      "469\n",
      "496\n",
      "445\n",
      "467\n",
      "460\n",
      "460\n",
      "450\n",
      "482\n",
      "473\n",
      "460\n",
      "453\n",
      "512\n",
      "497\n",
      "511\n",
      "460\n",
      "486\n",
      "504\n",
      "478\n",
      "482\n",
      "512\n",
      "511\n",
      "511\n",
      "483\n",
      "476\n",
      "460\n",
      "494\n",
      "452\n",
      "448\n",
      "444\n",
      "464\n",
      "457\n",
      "477\n",
      "499\n",
      "483\n",
      "509\n",
      "461\n",
      "450\n",
      "448\n",
      "511\n",
      "447\n",
      "493\n",
      "483\n",
      "507\n",
      "489\n",
      "484\n",
      "459\n",
      "451\n",
      "512\n",
      "476\n",
      "484\n",
      "507\n",
      "480\n",
      "461\n",
      "503\n",
      "461\n",
      "455\n",
      "510\n",
      "470\n",
      "506\n",
      "487\n",
      "484\n",
      "490\n",
      "486\n",
      "449\n",
      "491\n",
      "472\n",
      "449\n",
      "473\n",
      "511\n"
     ]
    }
   ],
   "source": [
    "index = [4000]\n",
    "index\n",
    "pa = len(index)\n",
    "A = create_sensing_matrix(4804,index)\n",
    "r = np.zeros((582,4))\n",
    "LRT = np.zeros((582,4))\n",
    "for ii,isample in enumerate(sampleindex):\n",
    "    print(isample)\n",
    "    xi = vx[isample,:]\n",
    "    lrt = np.zeros(5)\n",
    "    for i in range(5):\n",
    "        Wa = (A.T@WPPCAall[i])\n",
    "        precision = get_precision(Wa,sigmaall[i])\n",
    "        mean = modelall[i].mean_[index]\n",
    "        xa = (A.T@xi.T).reshape(1,pa)\n",
    "        lrt[i] = np.mean(loglk(xa,mean,precision))\n",
    "    LRT[ii] = np.cumsum(np.diff(lrt,1))\n",
    "    for i in range(4):\n",
    "        r[ii,i] = np.log1p(np.exp(r[ii-1,i]))+LRT[ii,i]\n",
    "    \n"
   ]
  },
  {
   "cell_type": "code",
   "execution_count": 29,
   "metadata": {},
   "outputs": [
    {
     "data": {
      "text/plain": [
       "[<matplotlib.lines.Line2D at 0x7fa8c8828050>]"
      ]
     },
     "execution_count": 29,
     "metadata": {},
     "output_type": "execute_result"
    },
    {
     "data": {
      "image/png": "[encoded data removed]",
      "text/plain": [
       "<Figure size 432x288 with 1 Axes>"
      ]
     },
     "metadata": {
      "needs_background": "light"
     },
     "output_type": "display_data"
    }
   ],
   "source": [
    "plt.plot(LRT[:,3])"
   ]
  },
  {
   "cell_type": "code",
   "execution_count": null,
   "metadata": {},
   "outputs": [],
   "source": []
  },
  {
   "cell_type": "code",
   "execution_count": 180,
   "metadata": {},
   "outputs": [
    {
     "data": {
      "text/plain": [
       "(582, 4)"
      ]
     },
     "execution_count": 180,
     "metadata": {},
     "output_type": "execute_result"
    }
   ],
   "source": [
    "r.shape"
   ]
  },
  {
   "cell_type": "code",
   "execution_count": null,
   "metadata": {},
   "outputs": [],
   "source": []
  }
 ],
 "metadata": {
  "kernelspec": {
   "display_name": "Python 3",
   "language": "python",
   "name": "python3"
  },
  "language_info": {
   "codemirror_mode": {
    "name": "ipython",
    "version": 3
   },
   "file_extension": ".py",
   "mimetype": "text/x-python",
   "name": "python",
   "nbconvert_exporter": "python",
   "pygments_lexer": "ipython3",
   "version": "3.7.4"
  }
 },
 "nbformat": 4,
 "nbformat_minor": 2
}
