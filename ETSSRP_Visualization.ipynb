{
 "cells": [
  {
   "cell_type": "markdown",
   "metadata": {},
   "source": [
    "# Simulation Setup"
   ]
  },
  {
   "cell_type": "code",
   "execution_count": 43,
   "metadata": {
    "lines_to_next_cell": 2
   },
   "outputs": [],
   "source": [
    "import numpy as np\n",
    "from Bspline import bsplineBasis\n",
    "import matplotlib.pyplot as plt\n",
    "case = 'nonoverlap'\n",
    "#case = 'spline'\n",
    "if case == 'nonoverlap':\n",
    "    p = 1000 # Number of dimensions\n",
    "    c = 1 # Target meanshift is c * M\n",
    "    k = 50 # Number of failuer Modes\n",
    "    seed_list_OC = 20 # Seed of data generation\n",
    "    sel_failure_mode = [3,11,22]    #  Failure Mode\n",
    "    M = np.kron(np.eye(k),np.ones((int(p/k),1))) # Mean Failure Modes\n",
    "else:\n",
    "    p = 900\n",
    "    c = 1 \n",
    "    k0 = 6 # Can be changed (Knots)\n",
    "    k = k0**2 # Failre mode number \n",
    "    degree = 4 # Overlap region? (Size of B-spline basis) \n",
    "    B1 = bsplineBasis(30,k0-degree+1,degree)\n",
    "    M = np.kron(B1,B1)\n",
    "    sel_failure_mode = [3,11,22]    #  Failure Mode\n",
    "Ks = 5  #Select Top Ks control chart\n",
    "nsensors = 5 # Number of selected sensors\n",
    "ARL0 = 200 # Target ARL-IC\n",
    "Tmax = 500 # Maximum length"
   ]
  },
  {
   "cell_type": "code",
   "execution_count": 79,
   "metadata": {},
   "outputs": [
    {
     "data": {
      "image/png": "[encoded data removed]",
      "text/plain": [
       "<Figure size 432x288 with 1 Axes>"
      ]
     },
     "metadata": {
      "needs_background": "light"
     },
     "output_type": "display_data"
    }
   ],
   "source": [
    "# plt.plot(B1)\n",
    "plt.imshow(M[:,sel_failure_mode].sum(1).reshape([50,20]),aspect='auto')\n",
    "plt.axis('off')\n",
    "plt.savefig('true_anomaly.eps')"
   ]
  },
  {
   "cell_type": "markdown",
   "metadata": {},
   "source": [
    "## Data generation Function\n",
    "Data are generated as i.i.d normal before change. \n",
    "After change, add certain failure mode on the data."
   ]
  },
  {
   "cell_type": "code",
   "execution_count": 49,
   "metadata": {},
   "outputs": [],
   "source": [
    "def data_gen_func0(n_batch, Tmax, seed):\n",
    "    # Generate normal samples\n",
    "    np.random.seed(seed)    \n",
    "    data = np.random.randn(n_batch,Tmax,p)\n",
    "    return data\n",
    "\n",
    "def data_gen_func1(n_batch, Tmax, seed, T0, delta):\n",
    "    # Generate abnormal samples\n",
    "    np.random.seed(seed)\n",
    "    D1 = np.random.randn(n_batch, Tmax, p)\n",
    "    shift = np.sum(M[:,sel_failure_mode]*delta,1)\n",
    "    for i in range(T0,Tmax):\n",
    "        for j in range(n_batch):\n",
    "            D1[j,i,:] = D1[j,i,:]+shift\n",
    "    return D1\n",
    "\n",
    "\n"
   ]
  },
  {
   "cell_type": "markdown",
   "metadata": {},
   "source": [
    "## Failure Mode Visualization"
   ]
  },
  {
   "cell_type": "code",
   "execution_count": 50,
   "metadata": {},
   "outputs": [
    {
     "data": {
      "text/plain": [
       "[<matplotlib.lines.Line2D at 0x7fe3c1391c90>,\n",
       " <matplotlib.lines.Line2D at 0x7fe3c1391e90>,\n",
       " <matplotlib.lines.Line2D at 0x7fe3c139c090>,\n",
       " <matplotlib.lines.Line2D at 0x7fe3c139c250>,\n",
       " <matplotlib.lines.Line2D at 0x7fe3c139c410>,\n",
       " <matplotlib.lines.Line2D at 0x7fe3c139c5d0>,\n",
       " <matplotlib.lines.Line2D at 0x7fe3c139c810>,\n",
       " <matplotlib.lines.Line2D at 0x7fe3c139c9d0>,\n",
       " <matplotlib.lines.Line2D at 0x7fe3c139cb90>,\n",
       " <matplotlib.lines.Line2D at 0x7fe3c139c610>,\n",
       " <matplotlib.lines.Line2D at 0x7fe3c1367550>,\n",
       " <matplotlib.lines.Line2D at 0x7fe3c139cfd0>,\n",
       " <matplotlib.lines.Line2D at 0x7fe3c139f210>,\n",
       " <matplotlib.lines.Line2D at 0x7fe3c139f3d0>,\n",
       " <matplotlib.lines.Line2D at 0x7fe3c139f590>,\n",
       " <matplotlib.lines.Line2D at 0x7fe3c139f750>,\n",
       " <matplotlib.lines.Line2D at 0x7fe3c139f910>,\n",
       " <matplotlib.lines.Line2D at 0x7fe3c139fad0>,\n",
       " <matplotlib.lines.Line2D at 0x7fe3c139fc90>,\n",
       " <matplotlib.lines.Line2D at 0x7fe3c139fe50>,\n",
       " <matplotlib.lines.Line2D at 0x7fe3c139ffd0>,\n",
       " <matplotlib.lines.Line2D at 0x7fe3c13a2210>,\n",
       " <matplotlib.lines.Line2D at 0x7fe3c13a23d0>,\n",
       " <matplotlib.lines.Line2D at 0x7fe3c13a2590>,\n",
       " <matplotlib.lines.Line2D at 0x7fe3c13a2750>,\n",
       " <matplotlib.lines.Line2D at 0x7fe3c13a2910>,\n",
       " <matplotlib.lines.Line2D at 0x7fe3c13a2ad0>,\n",
       " <matplotlib.lines.Line2D at 0x7fe3c13a2c90>,\n",
       " <matplotlib.lines.Line2D at 0x7fe3c13a2e50>,\n",
       " <matplotlib.lines.Line2D at 0x7fe3c13a2fd0>,\n",
       " <matplotlib.lines.Line2D at 0x7fe3c1326210>,\n",
       " <matplotlib.lines.Line2D at 0x7fe3c13263d0>,\n",
       " <matplotlib.lines.Line2D at 0x7fe3c1326590>,\n",
       " <matplotlib.lines.Line2D at 0x7fe3c1326750>,\n",
       " <matplotlib.lines.Line2D at 0x7fe3c1326910>,\n",
       " <matplotlib.lines.Line2D at 0x7fe3c1326ad0>,\n",
       " <matplotlib.lines.Line2D at 0x7fe3c1326c90>,\n",
       " <matplotlib.lines.Line2D at 0x7fe3c1326e50>,\n",
       " <matplotlib.lines.Line2D at 0x7fe3c1326fd0>,\n",
       " <matplotlib.lines.Line2D at 0x7fe3c132b210>,\n",
       " <matplotlib.lines.Line2D at 0x7fe3c132b3d0>,\n",
       " <matplotlib.lines.Line2D at 0x7fe3c132b590>,\n",
       " <matplotlib.lines.Line2D at 0x7fe3c132b750>,\n",
       " <matplotlib.lines.Line2D at 0x7fe3c132b910>,\n",
       " <matplotlib.lines.Line2D at 0x7fe3c132bad0>,\n",
       " <matplotlib.lines.Line2D at 0x7fe3c132bc90>,\n",
       " <matplotlib.lines.Line2D at 0x7fe3c132be50>,\n",
       " <matplotlib.lines.Line2D at 0x7fe3c132bfd0>,\n",
       " <matplotlib.lines.Line2D at 0x7fe3c1330210>,\n",
       " <matplotlib.lines.Line2D at 0x7fe3c13303d0>]"
      ]
     },
     "execution_count": 50,
     "metadata": {},
     "output_type": "execute_result"
    },
    {
     "data": {
      "image/png": "[encoded data removed]",
      "text/plain": [
       "<Figure size 432x288 with 1 Axes>"
      ]
     },
     "metadata": {
      "needs_background": "light"
     },
     "output_type": "display_data"
    }
   ],
   "source": [
    "import matplotlib.pyplot as plt\n",
    "#_ = plt.plot(M)\n",
    "plt.plot(M[:19])"
   ]
  },
  {
   "cell_type": "code",
   "execution_count": 51,
   "metadata": {
    "lines_to_next_cell": 0
   },
   "outputs": [],
   "source": [
    "from ExtendedTSSRP import ExtendedTSSRP\n",
    "from TSSRP import TSSRP\n",
    "from Oracle import Oracle\n",
    "from spc import spc\n",
    "truesensidx = np.arange(nsensors)\n",
    "nmodels = 8\n",
    "model_all = [[] for i in range(nmodels)]\n",
    "\n",
    "# p, c, k, M, nsensors, Ks, L=-1, chart = 'srp',mode = 'T2'\n",
    "    \n",
    "model_all[0] = ExtendedTSSRP(p, c, k,M,nsensors,Ks,L=-1,chart = 'srp',mode='T2')\n",
    "model_all[1] = ExtendedTSSRP(p, c, k,M,nsensors,Ks,L=-1,chart = 'cusum')\n",
    "model_all[2] = ExtendedTSSRP(p, c, k, M, nsensors, Ks, L=-1, chart = 'srp',mode='T1')\n",
    "model_all[3] = ExtendedTSSRP(p, c, k, M, nsensors, Ks, L=-1, chart = 'srp',mode='T2',sample_mode = 'mean')\n",
    "model_all[4] = ExtendedTSSRP(p, c, k, M, nsensors, Ks, L=-1, chart = 'cusum',sample_mode = 'mean')\n",
    "model_all[5] = TSSRP(p, c, k,M,nsensors,Ks,L=-1,chart='srp',mode='T2')\n",
    "model_all[6] = TSSRP(p, c, k,M,nsensors,Ks,L=-1,chart='cusum',mode='T2')\n",
    "model_all[7] = Oracle(truesensidx, p, c, k, M, nsensors, Ks, L=-1, chart = 'srp',mode='T2')\n",
    "\n",
    "model_name = ['E_srp_T2','E_cusum','E_srp_T1','E_srp_T2_mean','E_cusum_mean','srp_T2','cumsum','oracle']\n",
    "#experiment_log['model_name'] = model_name"
   ]
  },
  {
   "cell_type": "code",
   "execution_count": null,
   "metadata": {},
   "outputs": [],
   "source": []
  },
  {
   "cell_type": "code",
   "execution_count": null,
   "metadata": {
    "lines_to_next_cell": 2
   },
   "outputs": [],
   "source": []
  },
  {
   "cell_type": "markdown",
   "metadata": {},
   "source": [
    "# Result Visualization"
   ]
  },
  {
   "cell_type": "code",
   "execution_count": 97,
   "metadata": {},
   "outputs": [],
   "source": [
    "import matplotlib.pyplot as plt\n",
    "%matplotlib inline\n",
    "T0 = 100\n",
    "Tmax = 200\n",
    "delta = 1\n",
    "seed_list_OC = [0,2,5]\n",
    "x = data_gen_func1(3, Tmax, seed_list_OC, T0, delta)\n",
    "\n",
    "imodel = 0\n",
    "model = model_all[imodel]\n",
    "\n",
    "sequential_statistics_topRsum, sensor_selection_history, failure_mode_history, i,sequential_statistics= model.compute_monitoring_statistics(x[0],T0,-1)"
   ]
  },
  {
   "cell_type": "code",
   "execution_count": 83,
   "metadata": {},
   "outputs": [
    {
     "data": {
      "image/png": "[encoded data removed]",
      "text/plain": [
       "<Figure size 432x288 with 1 Axes>"
      ]
     },
     "metadata": {
      "needs_background": "light"
     },
     "output_type": "display_data"
    }
   ],
   "source": [
    "from collections import Counter\n",
    "count_distr = Counter(sensor_selection_history[:T0].reshape(-1) ).items()\n",
    "\n",
    "distr = np.zeros(1000)\n",
    "for i,v in count_distr:\n",
    "    distr[int(i)] = v\n",
    "plt.imshow(distr.reshape(50,20),aspect='auto')\n",
    "plt.axis('off')\n",
    "plt.savefig('IC_long.eps')"
   ]
  },
  {
   "cell_type": "code",
   "execution_count": 84,
   "metadata": {},
   "outputs": [
    {
     "data": {
      "image/png": "[encoded data removed]",
      "text/plain": [
       "<Figure size 432x288 with 1 Axes>"
      ]
     },
     "metadata": {
      "needs_background": "light"
     },
     "output_type": "display_data"
    }
   ],
   "source": [
    "from collections import Counter\n",
    "count_distr = Counter(sensor_selection_history[T0:].reshape(-1) ).items()\n",
    "\n",
    "distr = np.zeros(1000)\n",
    "for i,v in count_distr:\n",
    "    distr[int(i)] = v\n",
    "plt.imshow(distr.reshape(50,20),aspect='auto')\n",
    "plt.axis('off')\n",
    "plt.savefig('OC_long.eps')"
   ]
  },
  {
   "cell_type": "markdown",
   "metadata": {},
   "source": [
    "## Control Chart\n",
    "The control chart starts to increase around time 100, which is the time of change."
   ]
  },
  {
   "cell_type": "code",
   "execution_count": 21,
   "metadata": {},
   "outputs": [
    {
     "data": {
      "text/plain": [
       "[<matplotlib.lines.Line2D at 0x7fe3c01d85d0>]"
      ]
     },
     "execution_count": 21,
     "metadata": {},
     "output_type": "execute_result"
    },
    {
     "data": {
      "image/png": "[encoded data removed]",
      "text/plain": [
       "<Figure size 432x288 with 1 Axes>"
      ]
     },
     "metadata": {
      "needs_background": "light"
     },
     "output_type": "display_data"
    }
   ],
   "source": [
    "import matplotlib.pyplot as plt\n",
    "plt.plot(sequential_statistics_topRsum)"
   ]
  },
  {
   "cell_type": "markdown",
   "metadata": {},
   "source": [
    "## Failure Mode SRP statistics\n",
    "The statistics of three failure modes are very clear to accumulate"
   ]
  },
  {
   "cell_type": "code",
   "execution_count": 22,
   "metadata": {},
   "outputs": [
    {
     "data": {
      "text/plain": [
       "<matplotlib.image.AxesImage at 0x7fe3c0143cd0>"
      ]
     },
     "execution_count": 22,
     "metadata": {},
     "output_type": "execute_result"
    },
    {
     "data": {
      "image/png": "[encoded data removed]",
      "text/plain": [
       "<Figure size 432x288 with 1 Axes>"
      ]
     },
     "metadata": {
      "needs_background": "light"
     },
     "output_type": "display_data"
    }
   ],
   "source": [
    "plt.imshow(sequential_statistics,aspect='auto')"
   ]
  },
  {
   "cell_type": "markdown",
   "metadata": {},
   "source": [
    "## Look into each SRP statistics for different failure mode\n"
   ]
  },
  {
   "cell_type": "code",
   "execution_count": 130,
   "metadata": {},
   "outputs": [],
   "source": [
    "import matplotlib.pyplot as plt\n",
    "\n",
    "SMALL_SIZE = 15\n",
    "MEDIUM_SIZE = 15\n",
    "BIGGER_SIZE = 20\n",
    "\n",
    "plt.rc('font', size=SMALL_SIZE)          # controls default text sizes\n",
    "plt.rc('axes', titlesize=SMALL_SIZE)     # fontsize of the axes title\n",
    "plt.rc('axes', labelsize=MEDIUM_SIZE)    # fontsize of the x and y labels\n",
    "plt.rc('xtick', labelsize=SMALL_SIZE)    # fontsize of the tick labels\n",
    "plt.rc('ytick', labelsize=SMALL_SIZE)    # fontsize of the tick labels\n",
    "plt.rc('legend', fontsize=SMALL_SIZE)    # legend fontsize\n",
    "plt.rc('figure', titlesize=BIGGER_SIZE)  # fontsize of the figure title"
   ]
  },
  {
   "cell_type": "code",
   "execution_count": 141,
   "metadata": {
    "lines_to_next_cell": 2
   },
   "outputs": [
    {
     "name": "stderr",
     "output_type": "stream",
     "text": [
      "The PostScript backend does not support transparency; partially transparent artists will be rendered opaque.\n",
      "The PostScript backend does not support transparency; partially transparent artists will be rendered opaque.\n",
      "The PostScript backend does not support transparency; partially transparent artists will be rendered opaque.\n",
      "The PostScript backend does not support transparency; partially transparent artists will be rendered opaque.\n"
     ]
    },
    {
     "data": {
      "image/png": "[encoded data removed]",
      "text/plain": [
       "<Figure size 432x288 with 1 Axes>"
      ]
     },
     "metadata": {
      "needs_background": "light"
     },
     "output_type": "display_data"
    },
    {
     "data": {
      "image/png": "[encoded data removed]",
      "text/plain": [
       "<Figure size 432x288 with 1 Axes>"
      ]
     },
     "metadata": {
      "needs_background": "light"
     },
     "output_type": "display_data"
    }
   ],
   "source": [
    "for plotfailuremode in [5,22]:\n",
    "    arr = np.array([plotfailuremode in i for i in sensor_selection_history])\n",
    "    plt.figure()    \n",
    "    plt.plot(sequential_statistics[:,plotfailuremode],'r',label='Monitoring statistics')\n",
    "    mode = (sensor_selection_history/(p/k)).astype(int)\n",
    "    numSensorInFailureMode = np.zeros(Tmax)\n",
    "    for ii,i in enumerate(mode):\n",
    "        numSensorInFailureMode[ii] = np.sum([j ==plotfailuremode for j in i])\n",
    "    idx = np.where(numSensorInFailureMode)[0]\n",
    "    if plotfailuremode == 5:\n",
    "        plt.title('Potential Failure Mode')\n",
    "        plt.ylim((0,5))\n",
    "        _ = plt.scatter(idx,numSensorInFailureMode[idx]*0+2,label = 'Observed Sensor',c='black')\n",
    "    elif plotfailuremode == 22:\n",
    "        plt.title('True Failure Mode')\n",
    "        _ = plt.scatter(idx,numSensorInFailureMode[idx]*0+40,label = 'Observed Sensor',c='black')        \n",
    "    plt.axvline(x=100,color='k',linestyle='--')\n",
    "\n",
    "    plt.legend()\n",
    "    plt.savefig(str(plotfailuremode)+'.eps')"
   ]
  },
  {
   "cell_type": "code",
   "execution_count": 106,
   "metadata": {
    "lines_to_next_cell": 2
   },
   "outputs": [],
   "source": []
  },
  {
   "cell_type": "code",
   "execution_count": null,
   "metadata": {
    "lines_to_next_cell": 2
   },
   "outputs": [],
   "source": []
  },
  {
   "cell_type": "code",
   "execution_count": null,
   "metadata": {},
   "outputs": [],
   "source": [
    "plt.plot(sequential_statistics[:130,0])\n",
    "plt.plot(sequential_statistics[:130,22])"
   ]
  },
  {
   "cell_type": "markdown",
   "metadata": {},
   "source": [
    "## Number of observed sensors in the failure mode\n",
    "The number of observed sensor in different failure mode increases when we passes 100. "
   ]
  },
  {
   "cell_type": "code",
   "execution_count": null,
   "metadata": {
    "lines_to_next_cell": 2
   },
   "outputs": [],
   "source": [
    "ii = 0\n",
    "mode = (sensor_selection_history/(p/k)).astype(int)\n",
    "numSensorInFailureMode = np.zeros(Tmax)\n",
    "for ii,i in enumerate(mode):\n",
    "    numSensorInFailureMode[ii] = np.sum([j in sel_failure_mode for j in i])\n",
    "plt.plot(numSensorInFailureMode)"
   ]
  },
  {
   "cell_type": "code",
   "execution_count": null,
   "metadata": {},
   "outputs": [],
   "source": [
    "import numpy as np\n",
    "sens = np.array(x*0)\n",
    "\n",
    "sens_sel = sensor_selection_history[t].astype(int)\n",
    "sens_sel\n",
    "sens = x*0\n",
    "sens[isample][t][sens_sel]"
   ]
  },
  {
   "cell_type": "code",
   "execution_count": null,
   "metadata": {},
   "outputs": [],
   "source": [
    "isample = 0\n",
    "ims = []\n",
    "import matplotlib.animation as animation\n",
    "fig = plt.figure()\n",
    "\n",
    "for t in range(200):\n",
    "    sens_sel = sensor_selection_history[t].astype(int)\n",
    "    sens = x*0\n",
    "    sens[isample][t][sens_sel] = 1\n",
    "    im = plt.imshow(sens[isample][t].reshape([30,30]))\n",
    "    ims.append([im])\n",
    "\n",
    "ani = animation.ArtistAnimation(fig, ims, interval=50, blit=True,\n",
    "                                repeat_delay=1000)\n",
    "plt.show()\n",
    "\n",
    "ani.save('dynamic_images.mp4')\n"
   ]
  },
  {
   "cell_type": "markdown",
   "metadata": {},
   "source": [
    "## Failure Mode"
   ]
  },
  {
   "cell_type": "code",
   "execution_count": null,
   "metadata": {},
   "outputs": [],
   "source": [
    "sensor_selection_history/50"
   ]
  },
  {
   "cell_type": "markdown",
   "metadata": {},
   "source": [
    "## Top-R Failure Mode visualization\n",
    "\n"
   ]
  },
  {
   "cell_type": "code",
   "execution_count": null,
   "metadata": {},
   "outputs": [],
   "source": [
    "plt.imshow(failure_mode_history,aspect='auto')\n",
    "plt.colorbar()"
   ]
  },
  {
   "cell_type": "code",
   "execution_count": null,
   "metadata": {},
   "outputs": [],
   "source": [
    "_ = plt.plot(failure_mode_history[:,:3])"
   ]
  },
  {
   "cell_type": "markdown",
   "metadata": {},
   "source": [
    "## ARL results\n",
    "ARL shows four methods:\n",
    "- Extended TSSRP baed on sampled version of statistics (E_srp_sample)\n",
    "- Extended TSSRP baed on mean version of statistics (E_srp_mean)\n",
    "- Naive implementation of Extended TS CUSUM (E_cusum)\n",
    "- TSSRP method (srp_T2)\n",
    "\n",
    "Results show that E_cusum would not work since it doesn't encourage exploration at all. \n",
    "TSSRP does not use failure mode information and the result is much worse. \n",
    "sampled version of ETSSRP has the advantage over non-sampled version especially when meanshift is small"
   ]
  },
  {
   "cell_type": "code",
   "execution_count": null,
   "metadata": {
    "lines_to_next_cell": 0
   },
   "outputs": [],
   "source": [
    "import numpy as np\n",
    "import pickle\n",
    "# delta_all =  [0,0.1,0.2,0.3,0.4,0.5,0.6,0.8,1,1.2,1.5,1.8,2,3,4]\n",
    "delta_all =  [0.4,0.8,1,1.5,2,3,4]\n",
    "model_name = ['E_srp_sample','E_srp_mean','E_cusum','srp_T2']\n",
    "experiment_log = pickle.load( open( \"2020Mar28_1020_exp.pickle\", \"rb\" ) )\n",
    "ARL_all_new = experiment_log['ARL1']\n",
    "\n",
    "#ARL_5 = pickle.load( open( \"ARL_5.pickle\", \"rb\" ) )\n",
    "#ARL_67 = pickle.load( open( \"ARL_67.pickle\", \"rb\" ) )\n",
    "#ARL_all_new = np.concatenate((ARL_all,ARL_5[[5],:]),0)\n",
    "#ARL_all_new = np.concatenate((ARL_all_new,ARL_67[[6,7],:]),0)\n",
    "nmodels = 4\n",
    "import matplotlib.pyplot as plt\n",
    "%matplotlib inline\n",
    "for i in [0,1,2,3]:\n",
    "    plt.plot(delta_all,ARL_all_new[i,:],'x-',label=model_name[i])\n",
    "    plt.xlabel('Chagne Magnitude delta')\n",
    "    plt.ylabel('ARL_1')\n",
    "    plt.legend()"
   ]
  },
  {
   "cell_type": "code",
   "execution_count": null,
   "metadata": {
    "lines_to_next_cell": 2
   },
   "outputs": [],
   "source": []
  }
 ],
 "metadata": {
  "jupytext": {
   "formats": "ipynb,py:light"
  },
  "kernelspec": {
   "display_name": "Python 3",
   "language": "python",
   "name": "python3"
  },
  "language_info": {
   "codemirror_mode": {
    "name": "ipython",
    "version": 3
   },
   "file_extension": ".py",
   "mimetype": "text/x-python",
   "name": "python",
   "nbconvert_exporter": "python",
   "pygments_lexer": "ipython3",
   "version": "3.7.4"
  }
 },
 "nbformat": 4,
 "nbformat_minor": 4
}
