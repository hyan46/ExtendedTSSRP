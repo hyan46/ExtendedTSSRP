{
 "cells": [
  {
   "cell_type": "markdown",
   "metadata": {},
   "source": [
    "# Set up experiment detail "
   ]
  },
  {
   "cell_type": "code",
   "execution_count": 1,
   "metadata": {},
   "outputs": [],
   "source": [
    "import numpy as np\n",
    "import matplotlib.pyplot as plt\n",
    "p = 100 # Number of dimensions\n",
    "c = 1 # Target meanshift is c * M\n",
    "k = 50 # Number of failuer Mode\n",
    "nrun_IC = 5 # Number of runs\n",
    "nrun_OC = 5\n",
    "n_batch_phase1 = 5 # Number of batches for Phase 1\n",
    "n_batch_phase2 = 5 # Number of batches for Phase 2\n",
    "seed_list_IC = np.arange(nrun_IC) # Seeds for number of runs \n",
    "seed_list_OC = np.arange(1230,1230+nrun_OC) # \n",
    "num_failures = 3\n",
    "M = np.kron(np.eye(k),np.ones((int(p/k),1))) # Mean Failure Modes\n",
    "Ks = 5   #Select Top Ks control chart\n",
    "nsensors = 5 # Number of selected sensors\n",
    "ARL0 = 50 # Target ARL-IC\n",
    "Tmax = 1000 # Maximum length"
   ]
  },
  {
   "cell_type": "code",
   "execution_count": 2,
   "metadata": {},
   "outputs": [],
   "source": [
    "def data_gen_func0(n_batch, Tmax, seed):\n",
    "    # Generate normal samples\n",
    "    np.random.seed(seed)    \n",
    "    data = np.random.randn(n_batch,Tmax,p)\n",
    "    return data\n",
    "\n",
    "def data_gen_func1(n_batch, Tmax, seed, T0, delta):\n",
    "    # Generate abnormal samples\n",
    "    np.random.seed(seed)\n",
    "    sel_failure_mode = np.random.choice(k, num_failures)\n",
    "    D1 = np.random.randn(n_batch, Tmax, p)\n",
    "    shift = np.sum(M[:,sel_failure_mode]*delta,1)\n",
    "    D1[:,T0:,:] = D1[:,T0:,:]+shift.reshape(1,1,p)\n",
    "    return D1"
   ]
  },
  {
   "cell_type": "code",
   "execution_count": 3,
   "metadata": {},
   "outputs": [],
   "source": [
    "from ExtendedTSSRP import ExtendedTSSRP\n",
    "from MSSRP import MSSRP\n",
    "from TSSRP import TSSRP\n",
    "from spc.spc import spc\n",
    "import time\n",
    "truesensidx = np.arange(nsensors)\n",
    "nmodels = 3\n",
    "model_all = [[] for i in range(nmodels)]\n",
    "spc_model_all = [[] for i in range(nmodels)]\n",
    "model_name = ['E_srp_T2','E_srp_T1_Max','srp_M']\n",
    "L = np.zeros(nmodels)"
   ]
  },
  {
   "cell_type": "code",
   "execution_count": null,
   "metadata": {},
   "outputs": [
    {
     "name": "stdout",
     "output_type": "stream",
     "text": [
      "0.4\n",
      "E_srp_T2\n",
      "14.96\n",
      "E_srp_T1_Max\n",
      "31.32\n",
      "srp_M\n",
      "32.6\n",
      "0.8\n",
      "E_srp_T2\n"
     ]
    }
   ],
   "source": [
    "# delta_all =  [0,0.2,0.4,0.6,0.8,1,1.2,1.5,1.8,2,3,4]\n",
    "delta_all =  [0.4,0.8,1,1.5,2,3,4]\n",
    "lendelta = len(delta_all)\n",
    "start = time.time()\n",
    "ARL_all = np.zeros((nmodels,lendelta))\n",
    "mode_list = ['T2','T1_Max','M']\n",
    "for j,jdelta in enumerate(delta_all):\n",
    "    print(jdelta)\n",
    "    for i in range(nmodels): \n",
    "        print(model_name[i], flush=True)    \n",
    "        if i <=1:\n",
    "            model_all[i] = ExtendedTSSRP(p, jdelta, k, M, nsensors, Ks, L=-1, chart = 'srp',mode=mode_list[i])\n",
    "        else:\n",
    "            model_all[i] = MSSRP(p, jdelta, k, M, nsensors, Ks, L=-1, chart = 'srp',mode='T2')\n",
    "        monitor_statistics = lambda x, T0, L: model_all[i].compute_monitor_batch(x,T0, L)\n",
    "        spc_model_all[i] = spc(monitor_statistics,data_gen_func0, data_gen_func1)\n",
    "        L[i] = spc_model_all[i].phase1(n_batch_phase1, Tmax, seed_list_IC,r=1000,ARL0=ARL0)\n",
    "        \n",
    "        T_all, RL = spc_model_all[i].phase2( n_batch_phase2, Tmax, seed_list_OC, 20, delta=jdelta)\n",
    "        ARL_all[i,j] = np.mean(RL)\n",
    "        print(ARL_all[i,j], flush=True)\n",
    "# experiment_log['ARL1'] = ARL_all\n",
    "end = time.time()\n",
    "print(end -start)"
   ]
  },
  {
   "cell_type": "code",
   "execution_count": null,
   "metadata": {},
   "outputs": [],
   "source": [
    "np.save('ARL_all', ARL_all)"
   ]
  },
  {
   "cell_type": "code",
   "execution_count": 7,
   "metadata": {},
   "outputs": [
    {
     "data": {
      "image/png": "[encoded data removed]",
      "text/plain": [
       "<Figure size 432x288 with 1 Axes>"
      ]
     },
     "metadata": {
      "needs_background": "light"
     },
     "output_type": "display_data"
    }
   ],
   "source": [
    "import numpy as np\n",
    "import pickle\n",
    "model_name = ['E_srp_T2','E_srp_T1_Max','srp_M']\n",
    "for i in [0,1,2]:\n",
    "    plt.plot(delta_all,ARL_all[i,:],'x-',label=model_name[i])\n",
    "    plt.xlabel('Chagne Magnitude delta')\n",
    "    plt.ylabel('ARL_1')\n",
    "    plt.legend()"
   ]
  },
  {
   "cell_type": "code",
   "execution_count": null,
   "metadata": {},
   "outputs": [],
   "source": []
  }
 ],
 "metadata": {
  "kernelspec": {
   "display_name": "text",
   "language": "python",
   "name": "text"
  },
  "language_info": {
   "codemirror_mode": {
    "name": "ipython",
    "version": 3
   },
   "file_extension": ".py",
   "mimetype": "text/x-python",
   "name": "python",
   "nbconvert_exporter": "python",
   "pygments_lexer": "ipython3",
   "version": "3.7.4"
  }
 },
 "nbformat": 4,
 "nbformat_minor": 4
}
