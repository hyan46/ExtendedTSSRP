{
 "cells": [
  {
   "cell_type": "code",
   "execution_count": 24,
   "metadata": {},
   "outputs": [],
   "source": [
    "import numpy as np\n",
    "\n",
    "\n",
    "p = 1000 # Number of dimensions\n",
    "c = 1 # Target meanshift is c * M\n",
    "k = 50 # Number of failuer Mode\n",
    "nrun_IC = 20 # Number of runs\n",
    "nrun_OC = 20\n",
    "n_batch_phase1 = 50 # Number of batches for Phase 1\n",
    "n_batch_phase2 = 50 # Number of batches for Phase 2\n",
    "seed_list_IC = np.arange(nrun_IC) # Seeds for number of runs \n",
    "seed_list_OC = np.arange(1230,1230+nrun_OC) # \n",
    "num_failures = 3\n",
    "M = np.kron(np.eye(k),np.ones((int(p/k),1))) # Mean Failure Modes\n",
    "Ks = 5   #Select Top Ks control chart\n",
    "nsensors = 5 # Number of selected sensors\n",
    "ARL0 = 500 # Target ARL-IC\n",
    "Tmax = 2000 # Maximum length\n",
    "\n",
    "experiment_log = {'p':p, 'c':c, 'k': c, 'nrun_IC':nrun_IC, 'nrum_OC':nrun_OC, 'n_batch_phase1':n_batch_phase1, 'num_failures':num_failures,'Ks':Ks,'nsensors':nsensors,'ARL0':ARL0,'Tmax':Tmax,'L':0,'ARL1':0,'model_name':0,'n_batch_phase2':n_batch_phase2}"
   ]
  },
  {
   "cell_type": "code",
   "execution_count": 25,
   "metadata": {},
   "outputs": [
    {
     "data": {
      "text/plain": [
       "{'p': 1000,\n",
       " 'c': 1,\n",
       " 'k': 1,\n",
       " 'nrun_IC': 20,\n",
       " 'nrum_OC': 20,\n",
       " 'n_batch_phase1': 50,\n",
       " 'num_failures': 3,\n",
       " 'Ks': 5,\n",
       " 'nsensors': 5,\n",
       " 'ARL0': 500,\n",
       " 'Tmax': 2000,\n",
       " 'L': 0,\n",
       " 'ARL1': 0,\n",
       " 'model_name': 0,\n",
       " 'n_batch_phase2': 50}"
      ]
     },
     "execution_count": 25,
     "metadata": {},
     "output_type": "execute_result"
    }
   ],
   "source": [
    "experiment_log"
   ]
  },
  {
   "cell_type": "markdown",
   "metadata": {},
   "source": [
    "## Define data generation Functions"
   ]
  },
  {
   "cell_type": "code",
   "execution_count": 26,
   "metadata": {
    "lines_to_next_cell": 0
   },
   "outputs": [],
   "source": [
    "def data_gen_func0(n_batch, Tmax, seed):\n",
    "    # Generate normal samples\n",
    "    np.random.seed(seed)    \n",
    "    data = np.random.randn(n_batch,Tmax,p)\n",
    "    return data\n",
    "\n",
    "def data_gen_func1(n_batch, Tmax, seed, T0, delta):\n",
    "    # Generate abnormal samples\n",
    "    np.random.seed(seed)\n",
    "    sel_failure_mode = np.random.choice(k, num_failures)\n",
    "    D1 = np.random.randn(n_batch, Tmax, p)\n",
    "    shift = np.sum(M[:,sel_failure_mode]*delta,1)\n",
    "    D1[:,T0:,:] = D1[:,T0:,:]+shift.reshape(1,1,p)\n",
    "    return D1\n"
   ]
  },
  {
   "cell_type": "code",
   "execution_count": null,
   "metadata": {
    "lines_to_next_cell": 2
   },
   "outputs": [],
   "source": []
  },
  {
   "cell_type": "code",
   "execution_count": null,
   "metadata": {},
   "outputs": [],
   "source": [
    "from ExtendedTSSRP import ExtendedTSSRP\n",
    "from TSSRP import TSSRP\n",
    "from Oracle import Oracle\n",
    "from spc.spc import spc\n",
    "truesensidx = np.arange(nsensors)\n",
    "nmodels = 4\n",
    "model_all = [[] for i in range(nmodels)]\n",
    "\n",
    "# p, c, k, M, nsensors, Ks, L=-1, chart = 'srp',mode = 'T2'\n",
    "    \n",
    "model_all[0] = ExtendedTSSRP(p, c, k,M,nsensors,Ks,L=-1,chart = 'srp',mode='T2')\n",
    "model_all[1] = ExtendedTSSRP(p, c, k,M,nsensors,Ks,L=-1,chart = 'srp',mode='T2',sample_mode = 'mean')\n",
    "model_all[2] = ExtendedTSSRP(p, c, k,M,nsensors,Ks,L=-1,chart = 'cusum')\n",
    "model_all[3] = TSSRP(p, c, p,M,nsensors,Ks,L=-1,chart='srp',mode='T2')\n",
    "\n",
    "model_name = ['E_srp_T2','E_srp_mean','E_cusum','srp_T2']\n",
    "experiment_log['model_name'] = model_name"
   ]
  },
  {
   "cell_type": "markdown",
   "metadata": {},
   "source": [
    "### Phase I Analysis "
   ]
  },
  {
   "cell_type": "code",
   "execution_count": 28,
   "metadata": {
    "lines_to_end_of_cell_marker": 2,
    "lines_to_next_cell": 0
   },
   "outputs": [
    {
     "name": "stdout",
     "output_type": "stream",
     "text": [
      "E_srp_T2\n"
     ]
    },
    {
     "ename": "KeyboardInterrupt",
     "evalue": "",
     "output_type": "error",
     "traceback": [
      "\u001b[0;31m---------------------------------------------------------------------------\u001b[0m",
      "\u001b[0;31mKeyboardInterrupt\u001b[0m                         Traceback (most recent call last)",
      "\u001b[0;32m<ipython-input-28-d5d47d29473f>\u001b[0m in \u001b[0;36m<module>\u001b[0;34m\u001b[0m\n\u001b[1;32m      7\u001b[0m     \u001b[0mmonitor_statistics\u001b[0m \u001b[0;34m=\u001b[0m \u001b[0;32mlambda\u001b[0m \u001b[0mx\u001b[0m\u001b[0;34m,\u001b[0m \u001b[0mT0\u001b[0m\u001b[0;34m,\u001b[0m \u001b[0mL\u001b[0m\u001b[0;34m:\u001b[0m \u001b[0mmodel_all\u001b[0m\u001b[0;34m[\u001b[0m\u001b[0mi\u001b[0m\u001b[0;34m]\u001b[0m\u001b[0;34m.\u001b[0m\u001b[0mcompute_monitor_batch\u001b[0m\u001b[0;34m(\u001b[0m\u001b[0mx\u001b[0m\u001b[0;34m,\u001b[0m\u001b[0mT0\u001b[0m\u001b[0;34m,\u001b[0m \u001b[0mL\u001b[0m\u001b[0;34m)\u001b[0m\u001b[0;34m\u001b[0m\u001b[0;34m\u001b[0m\u001b[0m\n\u001b[1;32m      8\u001b[0m     \u001b[0mspc_model_all\u001b[0m\u001b[0;34m[\u001b[0m\u001b[0mi\u001b[0m\u001b[0;34m]\u001b[0m \u001b[0;34m=\u001b[0m \u001b[0mspc\u001b[0m\u001b[0;34m(\u001b[0m\u001b[0mmonitor_statistics\u001b[0m\u001b[0;34m,\u001b[0m\u001b[0mdata_gen_func0\u001b[0m\u001b[0;34m,\u001b[0m \u001b[0mdata_gen_func1\u001b[0m\u001b[0;34m)\u001b[0m\u001b[0;34m\u001b[0m\u001b[0;34m\u001b[0m\u001b[0m\n\u001b[0;32m----> 9\u001b[0;31m     \u001b[0mL\u001b[0m\u001b[0;34m[\u001b[0m\u001b[0mi\u001b[0m\u001b[0;34m]\u001b[0m \u001b[0;34m=\u001b[0m \u001b[0mspc_model_all\u001b[0m\u001b[0;34m[\u001b[0m\u001b[0mi\u001b[0m\u001b[0;34m]\u001b[0m\u001b[0;34m.\u001b[0m\u001b[0mphase1\u001b[0m\u001b[0;34m(\u001b[0m\u001b[0mn_batch_phase1\u001b[0m\u001b[0;34m,\u001b[0m \u001b[0mTmax\u001b[0m\u001b[0;34m,\u001b[0m \u001b[0mseed_list_IC\u001b[0m\u001b[0;34m,\u001b[0m\u001b[0mr\u001b[0m\u001b[0;34m=\u001b[0m\u001b[0;36m1000\u001b[0m\u001b[0;34m,\u001b[0m\u001b[0mARL0\u001b[0m\u001b[0;34m=\u001b[0m\u001b[0mARL0\u001b[0m\u001b[0;34m)\u001b[0m\u001b[0;34m\u001b[0m\u001b[0;34m\u001b[0m\u001b[0m\n\u001b[0m\u001b[1;32m     10\u001b[0m \u001b[0;34m\u001b[0m\u001b[0m\n\u001b[1;32m     11\u001b[0m \u001b[0mexperiment_log\u001b[0m\u001b[0;34m[\u001b[0m\u001b[0;34m'L'\u001b[0m\u001b[0;34m]\u001b[0m \u001b[0;34m=\u001b[0m \u001b[0mL\u001b[0m\u001b[0;34m\u001b[0m\u001b[0;34m\u001b[0m\u001b[0m\n",
      "\u001b[0;32m~/ExtendedTSSRP/spc.py\u001b[0m in \u001b[0;36mphase1\u001b[0;34m(self, n_batch, Tmax, seed_list, r, ARL0)\u001b[0m\n\u001b[1;32m    116\u001b[0m         \u001b[0;34m-\u001b[0m \u001b[0mL\u001b[0m\u001b[0;34m:\u001b[0m \u001b[0mfound\u001b[0m \u001b[0mcontrol\u001b[0m \u001b[0mlimit\u001b[0m\u001b[0;34m\u001b[0m\u001b[0;34m\u001b[0m\u001b[0m\n\u001b[1;32m    117\u001b[0m         \"\"\"        \n\u001b[0;32m--> 118\u001b[0;31m         \u001b[0mstatisticsall\u001b[0m \u001b[0;34m=\u001b[0m \u001b[0mself\u001b[0m\u001b[0;34m.\u001b[0m\u001b[0mphase1_offline_gen\u001b[0m\u001b[0;34m(\u001b[0m\u001b[0mn_batch\u001b[0m\u001b[0;34m,\u001b[0m \u001b[0mTmax\u001b[0m\u001b[0;34m,\u001b[0m \u001b[0mseed_list\u001b[0m\u001b[0;34m)\u001b[0m\u001b[0;34m\u001b[0m\u001b[0;34m\u001b[0m\u001b[0m\n\u001b[0m\u001b[1;32m    119\u001b[0m         \u001b[0mL\u001b[0m \u001b[0;34m=\u001b[0m \u001b[0mself\u001b[0m\u001b[0;34m.\u001b[0m\u001b[0mphase1_L\u001b[0m\u001b[0;34m(\u001b[0m\u001b[0mstatisticsall\u001b[0m\u001b[0;34m,\u001b[0m\u001b[0mr\u001b[0m\u001b[0;34m=\u001b[0m\u001b[0mr\u001b[0m\u001b[0;34m,\u001b[0m \u001b[0mARL0\u001b[0m\u001b[0;34m=\u001b[0m\u001b[0mARL0\u001b[0m\u001b[0;34m)\u001b[0m\u001b[0;34m\u001b[0m\u001b[0;34m\u001b[0m\u001b[0m\n\u001b[1;32m    120\u001b[0m         \u001b[0mself\u001b[0m\u001b[0;34m.\u001b[0m\u001b[0mL\u001b[0m \u001b[0;34m=\u001b[0m \u001b[0mL\u001b[0m\u001b[0;34m\u001b[0m\u001b[0;34m\u001b[0m\u001b[0m\n",
      "\u001b[0;32m~/ExtendedTSSRP/spc.py\u001b[0m in \u001b[0;36mphase1_offline_gen\u001b[0;34m(self, n_batch, Tmax, seed_list)\u001b[0m\n\u001b[1;32m     65\u001b[0m         \u001b[0mstatistics_all\u001b[0m \u001b[0;34m=\u001b[0m \u001b[0mnp\u001b[0m\u001b[0;34m.\u001b[0m\u001b[0mzeros\u001b[0m\u001b[0;34m(\u001b[0m\u001b[0;34m(\u001b[0m\u001b[0mnsim\u001b[0m\u001b[0;34m*\u001b[0m\u001b[0mn_batch\u001b[0m\u001b[0;34m,\u001b[0m \u001b[0mTmax\u001b[0m\u001b[0;34m)\u001b[0m\u001b[0;34m)\u001b[0m\u001b[0;34m\u001b[0m\u001b[0;34m\u001b[0m\u001b[0m\n\u001b[1;32m     66\u001b[0m         \u001b[0;32mfor\u001b[0m \u001b[0mi\u001b[0m\u001b[0;34m,\u001b[0m\u001b[0miseed\u001b[0m \u001b[0;32min\u001b[0m \u001b[0menumerate\u001b[0m\u001b[0;34m(\u001b[0m\u001b[0mseed_list\u001b[0m\u001b[0;34m)\u001b[0m\u001b[0;34m:\u001b[0m\u001b[0;34m\u001b[0m\u001b[0;34m\u001b[0m\u001b[0m\n\u001b[0;32m---> 67\u001b[0;31m             \u001b[0mdata\u001b[0m \u001b[0;34m=\u001b[0m \u001b[0mself\u001b[0m\u001b[0;34m.\u001b[0m\u001b[0mdata_gen_func0\u001b[0m\u001b[0;34m(\u001b[0m\u001b[0mn_batch\u001b[0m\u001b[0;34m,\u001b[0m \u001b[0mTmax\u001b[0m\u001b[0;34m,\u001b[0m \u001b[0miseed\u001b[0m\u001b[0;34m)\u001b[0m\u001b[0;34m\u001b[0m\u001b[0;34m\u001b[0m\u001b[0m\n\u001b[0m\u001b[1;32m     68\u001b[0m             \u001b[0mstatistics\u001b[0m\u001b[0;34m,\u001b[0m \u001b[0mTout\u001b[0m \u001b[0;34m=\u001b[0m \u001b[0mself\u001b[0m\u001b[0;34m.\u001b[0m\u001b[0mapply_monitoring_statistics\u001b[0m\u001b[0;34m(\u001b[0m\u001b[0mdata\u001b[0m\u001b[0;34m)\u001b[0m\u001b[0;34m\u001b[0m\u001b[0;34m\u001b[0m\u001b[0m\n\u001b[1;32m     69\u001b[0m             \u001b[0mstatistics_all\u001b[0m\u001b[0;34m[\u001b[0m\u001b[0;34m(\u001b[0m\u001b[0mn_batch\u001b[0m\u001b[0;34m*\u001b[0m\u001b[0mi\u001b[0m\u001b[0;34m)\u001b[0m\u001b[0;34m:\u001b[0m\u001b[0;34m(\u001b[0m\u001b[0mn_batch\u001b[0m\u001b[0;34m*\u001b[0m\u001b[0;34m(\u001b[0m\u001b[0mi\u001b[0m\u001b[0;34m+\u001b[0m\u001b[0;36m1\u001b[0m\u001b[0;34m)\u001b[0m\u001b[0;34m)\u001b[0m\u001b[0;34m,\u001b[0m\u001b[0;34m:\u001b[0m\u001b[0;34m]\u001b[0m \u001b[0;34m=\u001b[0m \u001b[0mstatistics\u001b[0m\u001b[0;34m\u001b[0m\u001b[0;34m\u001b[0m\u001b[0m\n",
      "\u001b[0;32m<ipython-input-26-d70cabf90a15>\u001b[0m in \u001b[0;36mdata_gen_func0\u001b[0;34m(n_batch, Tmax, seed)\u001b[0m\n\u001b[1;32m      2\u001b[0m     \u001b[0;31m# Generate normal samples\u001b[0m\u001b[0;34m\u001b[0m\u001b[0;34m\u001b[0m\u001b[0;34m\u001b[0m\u001b[0m\n\u001b[1;32m      3\u001b[0m     \u001b[0mnp\u001b[0m\u001b[0;34m.\u001b[0m\u001b[0mrandom\u001b[0m\u001b[0;34m.\u001b[0m\u001b[0mseed\u001b[0m\u001b[0;34m(\u001b[0m\u001b[0mseed\u001b[0m\u001b[0;34m)\u001b[0m\u001b[0;34m\u001b[0m\u001b[0;34m\u001b[0m\u001b[0m\n\u001b[0;32m----> 4\u001b[0;31m     \u001b[0mdata\u001b[0m \u001b[0;34m=\u001b[0m \u001b[0mnp\u001b[0m\u001b[0;34m.\u001b[0m\u001b[0mrandom\u001b[0m\u001b[0;34m.\u001b[0m\u001b[0mrandn\u001b[0m\u001b[0;34m(\u001b[0m\u001b[0mn_batch\u001b[0m\u001b[0;34m,\u001b[0m\u001b[0mTmax\u001b[0m\u001b[0;34m,\u001b[0m\u001b[0mp\u001b[0m\u001b[0;34m)\u001b[0m\u001b[0;34m\u001b[0m\u001b[0;34m\u001b[0m\u001b[0m\n\u001b[0m\u001b[1;32m      5\u001b[0m     \u001b[0;32mreturn\u001b[0m \u001b[0mdata\u001b[0m\u001b[0;34m\u001b[0m\u001b[0;34m\u001b[0m\u001b[0m\n\u001b[1;32m      6\u001b[0m \u001b[0;34m\u001b[0m\u001b[0m\n",
      "\u001b[0;31mKeyboardInterrupt\u001b[0m: "
     ]
    }
   ],
   "source": [
    "spc_model_all = [[] for i in range(nmodels)]\n",
    "L = np.zeros(nmodels)\n",
    "\n",
    "\n",
    "for i in range(nmodels): \n",
    "    print(model_name[i], flush=True)\n",
    "    monitor_statistics = lambda x, T0, L: model_all[i].compute_monitor_batch(x,T0, L)\n",
    "    spc_model_all[i] = spc(monitor_statistics,data_gen_func0, data_gen_func1)\n",
    "    L[i] = spc_model_all[i].phase1(n_batch_phase1, Tmax, seed_list_IC,r=1000,ARL0=ARL0)\n",
    "\n",
    "experiment_log['L'] = L"
   ]
  },
  {
   "cell_type": "code",
   "execution_count": 16,
   "metadata": {},
   "outputs": [],
   "source": []
  },
  {
   "cell_type": "code",
   "execution_count": null,
   "metadata": {
    "lines_to_next_cell": 2
   },
   "outputs": [],
   "source": []
  },
  {
   "cell_type": "markdown",
   "metadata": {},
   "source": [
    "### Phase II Analysis \n"
   ]
  },
  {
   "cell_type": "code",
   "execution_count": 17,
   "metadata": {
    "lines_to_next_cell": 0
   },
   "outputs": [
    {
     "name": "stdout",
     "output_type": "stream",
     "text": [
      "0.4\n",
      "E_srp_T2\n",
      "198.0\n",
      "E_srp_mean\n",
      "148.0\n",
      "E_cusum\n",
      "107.75\n",
      "srp_T2\n",
      "46.25\n",
      "0.8\n",
      "E_srp_T2\n",
      "28.0\n",
      "E_srp_mean\n",
      "19.75\n",
      "E_cusum\n",
      "91.75\n",
      "srp_T2\n",
      "39.75\n",
      "1\n",
      "E_srp_T2\n",
      "15.0\n",
      "E_srp_mean\n",
      "17.75\n",
      "E_cusum\n",
      "95.25\n",
      "srp_T2\n",
      "39.0\n",
      "1.5\n",
      "E_srp_T2\n",
      "8.5\n",
      "E_srp_mean\n",
      "9.5\n",
      "E_cusum\n",
      "91.5\n",
      "srp_T2\n",
      "38.0\n",
      "2\n",
      "E_srp_T2\n",
      "7.0\n",
      "E_srp_mean\n",
      "9.5\n",
      "E_cusum\n",
      "91.25\n",
      "srp_T2\n",
      "36.25\n",
      "3\n",
      "E_srp_T2\n",
      "8.25\n",
      "E_srp_mean\n",
      "5.25\n",
      "E_cusum\n",
      "90.75\n",
      "srp_T2\n",
      "35.5\n",
      "4\n",
      "E_srp_T2\n",
      "8.25\n",
      "E_srp_mean\n",
      "5.25\n",
      "E_cusum\n",
      "90.25\n",
      "srp_T2\n",
      "35.0\n"
     ]
    }
   ],
   "source": [
    "# delta_all =  [0,0.2,0.4,0.6,0.8,1,1.2,1.5,1.8,2,3,4]\n",
    "delta_all =  [0.4,0.8,1,1.5,2,3,4]\n",
    "lendelta = len(delta_all)\n",
    "\n",
    "ARL_all = np.zeros((nmodels,lendelta))\n",
    "for j,jdelta in enumerate(delta_all):\n",
    "    print(jdelta)\n",
    "    for i in range(nmodels): \n",
    "        print(model_name[i], flush=True)    \n",
    "        T_all, RL = spc_model_all[i].phase2( n_batch_phase2, Tmax, seed_list_OC, 20, delta=jdelta)\n",
    "        ARL_all[i,j] = np.mean(RL)\n",
    "        print(ARL_all[i,j], flush=True)\n",
    "experiment_log['ARL1'] = ARL_all"
   ]
  },
  {
   "cell_type": "code",
   "execution_count": null,
   "metadata": {
    "lines_to_next_cell": 2
   },
   "outputs": [],
   "source": []
  },
  {
   "cell_type": "markdown",
   "metadata": {},
   "source": [
    "### Model Logging"
   ]
  },
  {
   "cell_type": "code",
   "execution_count": 6,
   "metadata": {
    "lines_to_next_cell": 2
   },
   "outputs": [],
   "source": [
    "import pickle\n",
    "import time\n",
    "filename = time.strftime(\"%Y%b%d_%H%M_exp.pickle\", time.localtime())\n",
    "pickle.dump( experiment_log, open( filename, \"wb\" ))"
   ]
  },
  {
   "cell_type": "code",
   "execution_count": 10,
   "metadata": {
    "lines_to_next_cell": 0
   },
   "outputs": [
    {
     "data": {
      "image/png": "[encoded data removed]",
      "text/plain": [
       "<Figure size 432x288 with 1 Axes>"
      ]
     },
     "metadata": {
      "needs_background": "light"
     },
     "output_type": "display_data"
    }
   ],
   "source": [
    "import numpy as np\n",
    "import pickle\n",
    "# delta_all =  [0,0.1,0.2,0.3,0.4,0.5,0.6,0.8,1,1.2,1.5,1.8,2,3,4]\n",
    "delta_all =  [0.4,0.8,1,1.5,2,3,4]\n",
    "model_name = ['E_srp_sample','E_srp_mean','E_cusum','srp_T2']\n",
    "experiment_log = pickle.load( open( \"2020Mar28_1020_exp.pickle\", \"rb\" ) )\n",
    "ARL_all_new = experiment_log['ARL1']\n",
    "\n",
    "#ARL_5 = pickle.load( open( \"ARL_5.pickle\", \"rb\" ) )\n",
    "#ARL_67 = pickle.load( open( \"ARL_67.pickle\", \"rb\" ) )\n",
    "#ARL_all_new = np.concatenate((ARL_all,ARL_5[[5],:]),0)\n",
    "#ARL_all_new = np.concatenate((ARL_all_new,ARL_67[[6,7],:]),0)\n",
    "nmodels = 4\n",
    "import matplotlib.pyplot as plt\n",
    "%matplotlib inline\n",
    "for i in [0,1,3]:\n",
    "    plt.plot(delta_all,ARL_all_new[i,:],'x-',label=model_name[i])\n",
    "    plt.xlabel('Chagne Magnitude delta')\n",
    "    plt.ylabel('ARL_1')\n",
    "    plt.legend()"
   ]
  },
  {
   "cell_type": "code",
   "execution_count": null,
   "metadata": {},
   "outputs": [],
   "source": []
  },
  {
   "cell_type": "code",
   "execution_count": null,
   "metadata": {},
   "outputs": [],
   "source": []
  },
  {
   "cell_type": "code",
   "execution_count": null,
   "metadata": {
    "lines_to_next_cell": 2
   },
   "outputs": [],
   "source": []
  },
  {
   "cell_type": "code",
   "execution_count": null,
   "metadata": {},
   "outputs": [],
   "source": []
  },
  {
   "cell_type": "code",
   "execution_count": null,
   "metadata": {},
   "outputs": [],
   "source": []
  },
  {
   "cell_type": "code",
   "execution_count": null,
   "metadata": {},
   "outputs": [],
   "source": []
  },
  {
   "cell_type": "code",
   "execution_count": null,
   "metadata": {},
   "outputs": [],
   "source": []
  },
  {
   "cell_type": "code",
   "execution_count": null,
   "metadata": {
    "lines_to_next_cell": 2
   },
   "outputs": [],
   "source": []
  },
  {
   "cell_type": "code",
   "execution_count": 12,
   "metadata": {
    "lines_to_next_cell": 2
   },
   "outputs": [
    {
     "data": {
      "text/plain": [
       "array([2, 4])"
      ]
     },
     "execution_count": 12,
     "metadata": {},
     "output_type": "execute_result"
    }
   ],
   "source": [
    "a = np.array([0,0,1,0,1])\n",
    "np.where(a)[0]"
   ]
  },
  {
   "cell_type": "code",
   "execution_count": null,
   "metadata": {
    "lines_to_next_cell": 2
   },
   "outputs": [],
   "source": []
  }
 ],
 "metadata": {
  "jupytext": {
   "formats": "ipynb,py:light"
  },
  "kernelspec": {
   "display_name": "Python 3",
   "language": "python",
   "name": "python3"
  },
  "language_info": {
   "codemirror_mode": {
    "name": "ipython",
    "version": 3
   },
   "file_extension": ".py",
   "mimetype": "text/x-python",
   "name": "python",
   "nbconvert_exporter": "python",
   "pygments_lexer": "ipython3",
   "version": "3.7.4"
  }
 },
 "nbformat": 4,
 "nbformat_minor": 4
}
