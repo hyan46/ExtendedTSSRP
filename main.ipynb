{
 "cells": [
  {
   "cell_type": "markdown",
   "metadata": {},
   "source": [
    "# Load Packages"
   ]
  },
  {
   "cell_type": "code",
   "execution_count": null,
   "metadata": {},
   "outputs": [],
   "source": [
    "%load_ext autoreload\n",
    "%autoreload 1\n",
    "import numpy as np\n",
    "from itertools import product\n",
    "import os\n",
    "from model.ExtendedTSSRP import ExtendedTSSRP\n",
    "from model.TSSRP import TSSRP\n",
    "from model.MSSRP import MSSRP\n",
    "from model.adaptCUSUM import AdaptCUSUM\n",
    "import matplotlib.pyplot as plt\n",
    "import matplotlib\n",
    "%matplotlib inline\n",
    "from spc import spc\n",
    "import time\n",
    "import pickle"
   ]
  },
  {
   "cell_type": "markdown",
   "metadata": {},
   "source": [
    "# Experiment Setup "
   ]
  },
  {
   "cell_type": "code",
   "execution_count": 2,
   "metadata": {},
   "outputs": [],
   "source": [
    "nrun_IC = 1 # Number of runs\n",
    "nrun_OC = 1\n",
    "n_batch_phase1 = 50 # Number of batches for Phase 1\n",
    "n_batch_phase2 = 50 # Number of batches for Phase 2\n",
    "seed_list_IC = np.arange(nrun_IC) # Seeds for number of runs \n",
    "seed_list_OC = np.arange(1230,1230+nrun_OC) # \n",
    "\n",
    "\n",
    "p_list = [500] # Number of dimensions\n",
    "k_list = [50]\n",
    "num_failures_list = [7]\n",
    "Ks_list = [3]   #Select Top Ks control chart\n",
    "nsensors_list = [20] # Number of selected sensors\n",
    "experiment_setup = [list(i) for i in product(p_list, k_list, num_failures_list, Ks_list, nsensors_list)]\n",
    "\n",
    "experiment_idx = 0\n",
    "\n",
    "p = experiment_setup[experiment_idx][0]\n",
    "k = experiment_setup[experiment_idx][1]\n",
    "num_failures = experiment_setup[experiment_idx][2]\n",
    "Ks = experiment_setup[experiment_idx][3]\n",
    "nsensors = experiment_setup[experiment_idx][4]\n",
    "\n",
    "M = np.kron(np.eye(k),np.ones((int(p/k),1))) # Mean Failure Modes\n",
    "M_tssrp = np.kron(np.eye(p),np.ones((1,1))) # Mean Failure Modes\n",
    "ARL0 = 200 # Target ARL-IC\n",
    "Tmax = 2000 # Maximum length\n",
    "c = 1\n",
    "\n",
    "experiment_log = {'p':p, 'c':c, 'k': c, 'nrun_IC':nrun_IC, 'nrum_OC':nrun_OC, 'n_batch_phase1':n_batch_phase1, 'num_failures':num_failures,'Ks':Ks,'nsensors':nsensors,'ARL0':ARL0,'Tmax':Tmax,'L':0,'ARL1':0,'model_name':0,'n_batch_phase2':n_batch_phase2}"
   ]
  },
  {
   "cell_type": "code",
   "execution_count": 3,
   "metadata": {},
   "outputs": [],
   "source": [
    "def data_gen_func0(n_batch, Tmax, seed):\n",
    "    # Generate normal samples\n",
    "    np.random.seed(seed)    \n",
    "    data = np.random.randn(n_batch,Tmax,p)\n",
    "    return data\n",
    "\n",
    "def data_gen_func1(n_batch, Tmax, seed, T0, delta):\n",
    "    # Generate abnormal samples\n",
    "    np.random.seed(seed)\n",
    "    sel_failure_mode = np.random.choice(k, num_failures)\n",
    "    D1 = np.random.randn(n_batch, Tmax, p)\n",
    "    shift = np.sum(M[:,sel_failure_mode]*delta,1)\n",
    "    D1[:,T0:,:] = D1[:,T0:,:]+shift.reshape(1,1,p)\n",
    "    return D1"
   ]
  },
  {
   "cell_type": "markdown",
   "metadata": {},
   "source": [
    "# Create Model Instance"
   ]
  },
  {
   "cell_type": "code",
   "execution_count": 4,
   "metadata": {},
   "outputs": [],
   "source": [
    "nmodels = 6\n",
    "model_all = [[] for i in range(nmodels)]\n",
    "\n",
    "# p, c, k, M, nsensors, Ks, L=-1, chart = 'srp',mode = 'T2'\n",
    "    \n",
    "model_all[0] = ExtendedTSSRP(p, c, k,M,nsensors,Ks,L=-1,chart = 'srp',mode='T2')\n",
    "model_all[1] = ExtendedTSSRP(p, c, k,M,nsensors,Ks,L=-1,chart = 'srp',mode='random')\n",
    "model_all[2] = ExtendedTSSRP(p, c, k,M,p,Ks,L=-1,chart = 'srp',mode='T2')\n",
    "model_all[3] = TSSRP(p, c, p,M_tssrp,nsensors,nsensors,L=-1,chart='srp',mode='T2')\n",
    "model_all[4] = MSSRP(p, c, k, M, nsensors, Ks, L=-1, chart = 'srp',mode='T2')\n",
    "\n",
    "mumin = 1\n",
    "model_all[5]= AdaptCUSUM(p, c, p, M, nsensors, nsensors, mumin = mumin,delta=0.0001)\n",
    "\n",
    "model_name = ['MTSSRP','Random','Oracle','TSSRP','M_srp', 'AdaptCUSUM']"
   ]
  },
  {
   "cell_type": "markdown",
   "metadata": {},
   "source": [
    "# Phase I Analysis - Calculate L0"
   ]
  },
  {
   "cell_type": "code",
   "execution_count": null,
   "metadata": {},
   "outputs": [
    {
     "name": "stdout",
     "output_type": "stream",
     "text": [
      "MTSSRP\n",
      "Random\n",
      "Oracle\n",
      "TSSRP\n",
      "M_srp\n"
     ]
    }
   ],
   "source": [
    "import time\n",
    "experiment_log['model_name'] = model_name\n",
    "\n",
    "\n",
    "spc_model_all = [[] for i in range(nmodels)]\n",
    "L = np.zeros(nmodels)\n",
    "start = time.time()\n",
    "for i in range(nmodels): \n",
    "    print(model_name[i], flush=True)\n",
    "    monitor_statistics = lambda x, T0, L: model_all[i].compute_monitor_batch(x,T0, L)\n",
    "    spc_model_all[i] = spc.spc(monitor_statistics,data_gen_func0, data_gen_func1)\n",
    "    L[i] = spc_model_all[i].phase1(n_batch_phase1, Tmax, seed_list_IC,r=1000,ARL0=ARL0)\n",
    "\n",
    "experiment_log['L'] = L\n",
    "end = time.time()\n",
    "print(end-start)"
   ]
  },
  {
   "cell_type": "markdown",
   "metadata": {},
   "source": [
    "# Phase II Analysis"
   ]
  },
  {
   "cell_type": "code",
   "execution_count": null,
   "metadata": {},
   "outputs": [],
   "source": [
    "delta_all =  [0, 0.1,0.2,0.3,0.4,0.5,0.6,0.7,0.8]\n",
    "lendelta = len(delta_all)\n",
    "\n",
    "ARL_all = np.zeros((nmodels,lendelta))\n",
    "for j,jdelta in enumerate(delta_all):\n",
    "    print(jdelta)\n",
    "    for i in range(nmodels): \n",
    "#     for i in [1,5]: \n",
    "        print(model_name[i], flush=True)    \n",
    "        T_all, RL = spc_model_all[i].phase2( n_batch_phase2, Tmax, seed_list_OC, 0, delta=jdelta)\n",
    "        ARL_all[i,j] = np.mean(RL)\n",
    "        print(ARL_all[i,j], flush=True)\n",
    "experiment_log['ARL1'] = ARL_all"
   ]
  },
  {
   "cell_type": "markdown",
   "metadata": {},
   "source": [
    "# Results"
   ]
  },
  {
   "cell_type": "code",
   "execution_count": null,
   "metadata": {},
   "outputs": [],
   "source": [
    "font = {\n",
    "        'weight' : 'regular',\n",
    "        'size'   : 12}\n",
    "ARL_all_new = experiment_log['ARL1']\n",
    "matplotlib.rc('font', **font)\n",
    "params = {'mathtext.default': 'regular' }          \n",
    "plt.rcParams.update(params)\n",
    "color_list = ['r', 'g', 'k', 'b', 'm', 'y', 'k', 'w']\n",
    "marker_list = [\"8\", \"v\", \".\", \"x\", \"s\", \"H\",\".\"]\n",
    "linestyle_list = ['-', '-.', '--', ':','-.','-','--']\n",
    "for i in range(nmodels):\n",
    "# for i in [0, 1, 2, 3, 5]:\n",
    "    plt.plot(delta_all,ARL_all_new[i,:], linestyle=linestyle_list[i], marker=marker_list[i], color=color_list[i],label=model_name[i])\n",
    "    plt.xlabel('Change Magnitude delta\\n'\n",
    "               +'dimension:{}, total failures:{}, num of failures:{},\\n top failures:{}, num of sensors:{}'.format(*experiment_setup[experiment_idx]))\n",
    "    plt.ylabel('${ARL_1}$')\n",
    "    plt.legend()\n",
    "plt.tight_layout()"
   ]
  }
 ],
 "metadata": {
  "kernelspec": {
   "display_name": "pytorch",
   "language": "python",
   "name": "pytorch"
  },
  "language_info": {
   "codemirror_mode": {
    "name": "ipython",
    "version": 3
   },
   "file_extension": ".py",
   "mimetype": "text/x-python",
   "name": "python",
   "nbconvert_exporter": "python",
   "pygments_lexer": "ipython3",
   "version": "3.7.4"
  }
 },
 "nbformat": 4,
 "nbformat_minor": 4
}
