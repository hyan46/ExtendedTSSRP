{
 "cells": [
  {
   "cell_type": "code",
   "execution_count": 1,
   "metadata": {},
   "outputs": [],
   "source": [
    "import numpy as np\n",
    "from srp import srp\n",
    "p = 500 # Number of dimensions\n",
    "n0 = 150 # Number of in-control samples\n",
    "n1 = 150 # Number of out-of-control samples\n",
    "Tmax = n0+n1\n",
    "delta = 1 # Change magnitude\n",
    "c = 1 # Target meanshift is c * M\n",
    "k = 20 # Number of failuer Mode\n",
    "sel_failure_mode = [0,1,2,3,4,5]\n",
    "M = np.kron(np.eye(k),np.ones((int(p/k),1))) # Mean Failure Modes\n",
    "Ks = 5\n",
    "\n",
    "nsensors = 5"
   ]
  },
  {
   "cell_type": "code",
   "execution_count": 2,
   "metadata": {},
   "outputs": [],
   "source": [
    "def data_gen_func0(n_batch, Tmax, seed):\n",
    "    # Generate normal samples\n",
    "    np.random.seed(seed)    \n",
    "    data = np.random.randn(n_batch,Tmax,p)\n",
    "    return data\n",
    "\n",
    "def data_gen_func1(n_batch, Tmax, seed, T0, delta):\n",
    "    # Generate abnormal samples\n",
    "    np.random.seed(seed)\n",
    "    data = np.random.randn(n_batch, Tmax, p)\n",
    "    data[:,T0:,:] = data[:,T0:,:] + np.sum(M[:,sel_failure_mode]*delta,1)\n",
    "    return data\n"
   ]
  },
  {
   "cell_type": "markdown",
   "metadata": {},
   "source": [
    "### Use Extended TSSRP "
   ]
  },
  {
   "cell_type": "code",
   "execution_count": 10,
   "metadata": {},
   "outputs": [
    {
     "data": {
      "application/vnd.jupyter.widget-view+json": {
       "model_id": "062921a034294790ada1045502fc6ba3",
       "version_major": 2,
       "version_minor": 0
      },
      "text/plain": [
       "HBox(children=(IntProgress(value=0, max=10), HTML(value='')))"
      ]
     },
     "metadata": {},
     "output_type": "display_data"
    },
    {
     "name": "stdout",
     "output_type": "stream",
     "text": [
      "\n"
     ]
    }
   ],
   "source": [
    "from ExtendedTSSRP import ExtendedTSSRP\n",
    "from spc import spc\n",
    "\n",
    "k = 20 # Number of failuer Mode\n",
    "sel_failure_mode = [0,1,2,3,4,5]\n",
    "M = np.kron(np.eye(k),np.ones((int(p/k),1))) # Mean Failure Modes\n",
    "\n",
    "ETSSRP_srp_model = ExtendedTSSRP(p, c, k,M,nsensors,Ks)\n",
    "ETSSRP_monitor_statistics = lambda x, T0, L: ETSSRP_srp_model.compute_monitor_batch(x,T0, L)\n",
    "ETSSRP_spc_model = spc(ETSSRP_monitor_statistics,data_gen_func0, data_gen_func1)\n",
    "\n",
    "n_batch = 2\n",
    "Tmax = 500\n",
    "seed_list = np.arange(10)\n",
    "L = ETSSRP_spc_model.phase1(n_batch, Tmax, seed_list,r=1000,ARL0=100)\n",
    "n_batch = 20\n"
   ]
  },
  {
   "cell_type": "code",
   "execution_count": 11,
   "metadata": {},
   "outputs": [
    {
     "data": {
      "application/vnd.jupyter.widget-view+json": {
       "model_id": "65dd2f8d73134ea5b30ca032e97aad21",
       "version_major": 2,
       "version_minor": 0
      },
      "text/plain": [
       "HBox(children=(IntProgress(value=0, max=10), HTML(value='')))"
      ]
     },
     "metadata": {},
     "output_type": "display_data"
    },
    {
     "name": "stdout",
     "output_type": "stream",
     "text": [
      "\n"
     ]
    },
    {
     "data": {
      "text/plain": [
       "3.635"
      ]
     },
     "execution_count": 11,
     "metadata": {},
     "output_type": "execute_result"
    }
   ],
   "source": [
    "T_all, RL = ETSSRP_spc_model.phase2( n_batch, Tmax, np.arange(100,110), 20, delta=1)\n",
    "np.mean(RL)"
   ]
  },
  {
   "cell_type": "markdown",
   "metadata": {},
   "source": [
    "### Use TSSRP itself\n"
   ]
  },
  {
   "cell_type": "code",
   "execution_count": 12,
   "metadata": {},
   "outputs": [
    {
     "data": {
      "application/vnd.jupyter.widget-view+json": {
       "model_id": "644a170df50b418689db1997093aa1b2",
       "version_major": 2,
       "version_minor": 0
      },
      "text/plain": [
       "HBox(children=(IntProgress(value=0, max=10), HTML(value='')))"
      ]
     },
     "metadata": {},
     "output_type": "display_data"
    },
    {
     "name": "stdout",
     "output_type": "stream",
     "text": [
      "\n"
     ]
    }
   ],
   "source": [
    "from TSSRP import TSSRP\n",
    "from spc import spc\n",
    "\n",
    "k = p\n",
    "M = np.eye(p)\n",
    "vanilla_TSSRP_srp_model = TSSRP(p, c, k,M,nsensors,Ks)\n",
    "vanilla_TSSRP_monitor_statistics = lambda x, T0, L: vanilla_TSSRP_srp_model.compute_monitor_batch(x,T0, L)\n",
    "vanilla_TSSRP_spc_model = spc(vanilla_TSSRP_monitor_statistics,data_gen_func0, data_gen_func1)\n",
    "\n",
    "n_batch = 2\n",
    "Tmax = 500\n",
    "seed_list = np.arange(10)\n",
    "L = vanilla_TSSRP_spc_model.phase1(n_batch, Tmax, seed_list,r=1000,ARL0=100)\n",
    "n_batch = 20\n"
   ]
  },
  {
   "cell_type": "code",
   "execution_count": 13,
   "metadata": {},
   "outputs": [
    {
     "data": {
      "application/vnd.jupyter.widget-view+json": {
       "model_id": "196d093e70084594adb3c9d2922d0283",
       "version_major": 2,
       "version_minor": 0
      },
      "text/plain": [
       "HBox(children=(IntProgress(value=0, max=10), HTML(value='')))"
      ]
     },
     "metadata": {},
     "output_type": "display_data"
    },
    {
     "name": "stdout",
     "output_type": "stream",
     "text": [
      "\n"
     ]
    },
    {
     "data": {
      "text/plain": [
       "23.255"
      ]
     },
     "execution_count": 13,
     "metadata": {},
     "output_type": "execute_result"
    }
   ],
   "source": [
    "T_all, RL = vanilla_TSSRP_spc_model.phase2( n_batch, Tmax, np.arange(100,110), 20, delta=1)\n",
    "np.mean(RL)"
   ]
  },
  {
   "cell_type": "code",
   "execution_count": null,
   "metadata": {},
   "outputs": [],
   "source": []
  },
  {
   "cell_type": "markdown",
   "metadata": {},
   "source": [
    "### Use Extended TSSRP to simulate TSSRP by setting M = I"
   ]
  },
  {
   "cell_type": "code",
   "execution_count": 10,
   "metadata": {},
   "outputs": [
    {
     "data": {
      "application/vnd.jupyter.widget-view+json": {
       "model_id": "",
       "version_major": 2,
       "version_minor": 0
      },
      "text/plain": [
       "HBox(children=(IntProgress(value=0, max=10), HTML(value='')))"
      ]
     },
     "metadata": {},
     "output_type": "display_data"
    },
    {
     "name": "stdout",
     "output_type": "stream",
     "text": [
      "\n"
     ]
    }
   ],
   "source": [
    "from ExtendedTSSRP import ExtendedTSSRP\n",
    "from spc import spc\n",
    "\n",
    "M = np.eye(p)\n",
    "k = p\n",
    "TSSRP_srp_model = ExtendedTSSRP(p, c, k,M,nsensors,Ks)\n",
    "TSSRP_monitor_statistics = lambda x, T0, L: TSSRP_srp_model.compute_monitor_batch(x,T0, L)\n",
    "TSSRP_spc_model = spc(TSSRP_monitor_statistics,data_gen_func0, data_gen_func1)\n",
    "\n",
    "n_batch = 2\n",
    "Tmax = 500\n",
    "seed_list = np.arange(10)\n",
    "L = TSSRP_spc_model.phase1(n_batch, Tmax, seed_list,r=1000,ARL0=100)\n",
    "n_batch = 20\n"
   ]
  },
  {
   "cell_type": "code",
   "execution_count": 14,
   "metadata": {},
   "outputs": [
    {
     "data": {
      "application/vnd.jupyter.widget-view+json": {
       "model_id": "",
       "version_major": 2,
       "version_minor": 0
      },
      "text/plain": [
       "HBox(children=(IntProgress(value=0, max=10), HTML(value='')))"
      ]
     },
     "metadata": {},
     "output_type": "display_data"
    },
    {
     "name": "stdout",
     "output_type": "stream",
     "text": [
      "\n"
     ]
    },
    {
     "data": {
      "text/plain": [
       "33.74"
      ]
     },
     "execution_count": 14,
     "metadata": {},
     "output_type": "execute_result"
    }
   ],
   "source": [
    "T_all, RL = TSSRP_spc_model.phase2( n_batch, Tmax, np.arange(100,110), 20, delta=0.5)\n",
    "np.mean(RL)"
   ]
  },
  {
   "cell_type": "code",
   "execution_count": null,
   "metadata": {},
   "outputs": [],
   "source": []
  },
  {
   "cell_type": "code",
   "execution_count": null,
   "metadata": {},
   "outputs": [],
   "source": []
  },
  {
   "cell_type": "code",
   "execution_count": null,
   "metadata": {},
   "outputs": [],
   "source": []
  }
 ],
 "metadata": {
  "kernelspec": {
   "display_name": "Python 3",
   "language": "python",
   "name": "python3"
  },
  "language_info": {
   "codemirror_mode": {
    "name": "ipython",
    "version": 3
   },
   "file_extension": ".py",
   "mimetype": "text/x-python",
   "name": "python",
   "nbconvert_exporter": "python",
   "pygments_lexer": "ipython3",
   "version": "3.7.4"
  }
 },
 "nbformat": 4,
 "nbformat_minor": 2
}
