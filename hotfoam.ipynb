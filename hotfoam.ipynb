{
 "cells": [
  {
   "cell_type": "markdown",
   "metadata": {},
   "source": [
    "Hot-Foaming Process"
   ]
  },
  {
   "cell_type": "code",
   "execution_count": 29,
   "metadata": {},
   "outputs": [],
   "source": [
    "import numpy as np\n",
    "def genBN(nT,mu4,mu5,sigma):\n",
    "    X4 = np.random.randn(nT)*sigma + mu4\n",
    "    X5 = np.random.randn(nT)*sigma + mu5\n",
    "    X2 = 0.325*X5 + 0.493*X4\n",
    "    X3 = 0.688*X4\n",
    "    X1 = 0.574*X2 + 0.335*X3\n",
    "    return np.c_[X1,X2,X3,X4,X5]\n",
    "\n",
    "def getmu(mu4,mu5):\n",
    "    X4 = mu4\n",
    "    X5 = mu5\n",
    "    X2 = 0.325*X5 + 0.493*X4\n",
    "    X3 = 0.688*X4\n",
    "    X1 = 0.574*X2 + 0.335*X3\n",
    "    return np.c_[X1,X2,X3,X4,X5]"
   ]
  },
  {
   "cell_type": "code",
   "execution_count": 31,
   "metadata": {},
   "outputs": [
    {
     "data": {
      "text/plain": [
       "array([[0.18655 , 0.513462],\n",
       "       [0.325   , 0.493   ],\n",
       "       [0.      , 0.688   ],\n",
       "       [0.      , 1.      ],\n",
       "       [1.      , 0.      ]])"
      ]
     },
     "execution_count": 31,
     "metadata": {},
     "output_type": "execute_result"
    }
   ],
   "source": [
    "M = np.c_[getmu(0,1).T, getmu(1,0).T]"
   ]
  },
  {
   "cell_type": "code",
   "execution_count": 44,
   "metadata": {},
   "outputs": [],
   "source": [
    "sigma = 1\n",
    "delta = 1\n",
    "\n",
    "def data_gen_func0(n_batch, Tmax, seed):\n",
    "    mu4 = 0\n",
    "    mu5 = 0\n",
    "    np.random.seed(seed)    \n",
    "    p = 5\n",
    "    data = np.zeros(n_batch, Tmax, p)\n",
    "    for i in range(n_batch):\n",
    "        data[i] = genBN(Tmax,mu4,mu5,sigma)\n",
    "    return data\n",
    "\n",
    "def data_gen_func1(n_batch, Tmax, seed, T0, delta,mode):\n",
    "    if mode == 1:\n",
    "        mu4 = 1\n",
    "        mu5 = 0\n",
    "    else:\n",
    "        mu4 = 0\n",
    "        mu5 = 1\n",
    "    np.random.seed(seed)\n",
    "    for i in range(n_batch):\n",
    "        data[i,:T0,:] = genBN(T0,mu4,mu5,sigma)\n",
    "        data[i,T0:,:] = genBN(Tmax-T0,mu4,mu5,sigma)\n",
    "    return data\n"
   ]
  },
  {
   "cell_type": "code",
   "execution_count": null,
   "metadata": {},
   "outputs": [],
   "source": []
  },
  {
   "cell_type": "code",
   "execution_count": 3,
   "metadata": {},
   "outputs": [],
   "source": []
  },
  {
   "cell_type": "code",
   "execution_count": 7,
   "metadata": {},
   "outputs": [
    {
     "data": {
      "text/plain": [
       "array([[0.18655   , 0.34547625],\n",
       "       [0.325     , 0.493     ],\n",
       "       [0.        , 0.688     ],\n",
       "       [0.        , 1.        ],\n",
       "       [1.        , 0.        ]])"
      ]
     },
     "execution_count": 7,
     "metadata": {},
     "output_type": "execute_result"
    }
   ],
   "source": []
  },
  {
   "cell_type": "code",
   "execution_count": 10,
   "metadata": {},
   "outputs": [],
   "source": []
  },
  {
   "cell_type": "code",
   "execution_count": 11,
   "metadata": {},
   "outputs": [
    {
     "data": {
      "text/plain": [
       "array([ 0.92499149, -0.75128289,  0.11097787, -0.71485655,  0.13732513])"
      ]
     },
     "execution_count": 11,
     "metadata": {},
     "output_type": "execute_result"
    }
   ],
   "source": []
  },
  {
   "cell_type": "code",
   "execution_count": null,
   "metadata": {},
   "outputs": [],
   "source": []
  }
 ],
 "metadata": {
  "kernelspec": {
   "display_name": "Python [conda env:pytorch]",
   "language": "python",
   "name": "conda-env-pytorch-py"
  },
  "language_info": {
   "codemirror_mode": {
    "name": "ipython",
    "version": 3
   },
   "file_extension": ".py",
   "mimetype": "text/x-python",
   "name": "python",
   "nbconvert_exporter": "python",
   "pygments_lexer": "ipython3",
   "version": "3.7.5"
  }
 },
 "nbformat": 4,
 "nbformat_minor": 4
}
